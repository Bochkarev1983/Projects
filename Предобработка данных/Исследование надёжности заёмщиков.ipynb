{
 "cells": [
  {
   "cell_type": "markdown",
   "id": "e1f589ba",
   "metadata": {},
   "source": [
    "# Исследование надёжности заёмщиков"
   ]
  },
  {
   "cell_type": "markdown",
   "id": "caac833d",
   "metadata": {},
   "source": [
    "# Содержание"
   ]
  },
  {
   "cell_type": "markdown",
   "id": "1d4093d2",
   "metadata": {},
   "source": [
    "- Шаг 1. Загрузим данные и подготовим их к анализу\n",
    "- Шаг 2. Предобработка данных\n",
    "- 2.1 Обработка пропусков\n",
    "- 2.2 Замена типа данных\n",
    "- 2.3 Обработка дубликатов\n",
    "- 2.4 Лемматизация\n",
    "- 2.5 Категоризация данных\n",
    "- Шаг 3. Ответим на вопросы\n",
    "- 3.1 Есть ли зависимость между наличием детей и возвратом кредита в срок?\n",
    "- 3.2 Есть ли зависимость между семейным положением и возвратом кредита в срок?\n",
    "- 3.3 Есть ли зависимость между уровнем дохода и возвратом кредита в срок?\n",
    "- 3.4 Как разные цели кредита влияют на его возврат в срок?\n",
    "- Шаг 4. Общий вывод"
   ]
  },
  {
   "cell_type": "markdown",
   "id": "5bc1c72d",
   "metadata": {},
   "source": [
    "# Шаг 1. Загрузим данные и подготовим их к анализу"
   ]
  },
  {
   "cell_type": "code",
   "execution_count": 1,
   "id": "31a688c0",
   "metadata": {},
   "outputs": [],
   "source": [
    "import pandas as pd\n",
    "import numpy as np\n",
    "import pprint\n",
    "\n",
    "from pymystem3 import Mystem\n",
    "from collections import Counter"
   ]
  },
  {
   "cell_type": "code",
   "execution_count": 2,
   "id": "1e401191",
   "metadata": {},
   "outputs": [],
   "source": [
    "data = pd.read_csv('/datasets/data.csv')"
   ]
  },
  {
   "cell_type": "code",
   "execution_count": 3,
   "id": "29d04bc3",
   "metadata": {},
   "outputs": [
    {
     "name": "stdout",
     "output_type": "stream",
     "text": [
      "Первые 5 строк\n",
      "--------------------------------------------------\n"
     ]
    },
    {
     "data": {
      "text/html": [
       "<div>\n",
       "<style scoped>\n",
       "    .dataframe tbody tr th:only-of-type {\n",
       "        vertical-align: middle;\n",
       "    }\n",
       "\n",
       "    .dataframe tbody tr th {\n",
       "        vertical-align: top;\n",
       "    }\n",
       "\n",
       "    .dataframe thead th {\n",
       "        text-align: right;\n",
       "    }\n",
       "</style>\n",
       "<table border=\"1\" class=\"dataframe\">\n",
       "  <thead>\n",
       "    <tr style=\"text-align: right;\">\n",
       "      <th></th>\n",
       "      <th>children</th>\n",
       "      <th>days_employed</th>\n",
       "      <th>dob_years</th>\n",
       "      <th>education</th>\n",
       "      <th>education_id</th>\n",
       "      <th>family_status</th>\n",
       "      <th>family_status_id</th>\n",
       "      <th>gender</th>\n",
       "      <th>income_type</th>\n",
       "      <th>debt</th>\n",
       "      <th>total_income</th>\n",
       "      <th>purpose</th>\n",
       "    </tr>\n",
       "  </thead>\n",
       "  <tbody>\n",
       "    <tr>\n",
       "      <th>0</th>\n",
       "      <td>1</td>\n",
       "      <td>-8437.673028</td>\n",
       "      <td>42</td>\n",
       "      <td>высшее</td>\n",
       "      <td>0</td>\n",
       "      <td>женат / замужем</td>\n",
       "      <td>0</td>\n",
       "      <td>F</td>\n",
       "      <td>сотрудник</td>\n",
       "      <td>0</td>\n",
       "      <td>253875.639453</td>\n",
       "      <td>покупка жилья</td>\n",
       "    </tr>\n",
       "    <tr>\n",
       "      <th>1</th>\n",
       "      <td>1</td>\n",
       "      <td>-4024.803754</td>\n",
       "      <td>36</td>\n",
       "      <td>среднее</td>\n",
       "      <td>1</td>\n",
       "      <td>женат / замужем</td>\n",
       "      <td>0</td>\n",
       "      <td>F</td>\n",
       "      <td>сотрудник</td>\n",
       "      <td>0</td>\n",
       "      <td>112080.014102</td>\n",
       "      <td>приобретение автомобиля</td>\n",
       "    </tr>\n",
       "    <tr>\n",
       "      <th>2</th>\n",
       "      <td>0</td>\n",
       "      <td>-5623.422610</td>\n",
       "      <td>33</td>\n",
       "      <td>Среднее</td>\n",
       "      <td>1</td>\n",
       "      <td>женат / замужем</td>\n",
       "      <td>0</td>\n",
       "      <td>M</td>\n",
       "      <td>сотрудник</td>\n",
       "      <td>0</td>\n",
       "      <td>145885.952297</td>\n",
       "      <td>покупка жилья</td>\n",
       "    </tr>\n",
       "    <tr>\n",
       "      <th>3</th>\n",
       "      <td>3</td>\n",
       "      <td>-4124.747207</td>\n",
       "      <td>32</td>\n",
       "      <td>среднее</td>\n",
       "      <td>1</td>\n",
       "      <td>женат / замужем</td>\n",
       "      <td>0</td>\n",
       "      <td>M</td>\n",
       "      <td>сотрудник</td>\n",
       "      <td>0</td>\n",
       "      <td>267628.550329</td>\n",
       "      <td>дополнительное образование</td>\n",
       "    </tr>\n",
       "    <tr>\n",
       "      <th>4</th>\n",
       "      <td>0</td>\n",
       "      <td>340266.072047</td>\n",
       "      <td>53</td>\n",
       "      <td>среднее</td>\n",
       "      <td>1</td>\n",
       "      <td>гражданский брак</td>\n",
       "      <td>1</td>\n",
       "      <td>F</td>\n",
       "      <td>пенсионер</td>\n",
       "      <td>0</td>\n",
       "      <td>158616.077870</td>\n",
       "      <td>сыграть свадьбу</td>\n",
       "    </tr>\n",
       "  </tbody>\n",
       "</table>\n",
       "</div>"
      ],
      "text/plain": [
       "   children  days_employed  dob_years education  education_id  \\\n",
       "0         1   -8437.673028         42    высшее             0   \n",
       "1         1   -4024.803754         36   среднее             1   \n",
       "2         0   -5623.422610         33   Среднее             1   \n",
       "3         3   -4124.747207         32   среднее             1   \n",
       "4         0  340266.072047         53   среднее             1   \n",
       "\n",
       "      family_status  family_status_id gender income_type  debt   total_income  \\\n",
       "0   женат / замужем                 0      F   сотрудник     0  253875.639453   \n",
       "1   женат / замужем                 0      F   сотрудник     0  112080.014102   \n",
       "2   женат / замужем                 0      M   сотрудник     0  145885.952297   \n",
       "3   женат / замужем                 0      M   сотрудник     0  267628.550329   \n",
       "4  гражданский брак                 1      F   пенсионер     0  158616.077870   \n",
       "\n",
       "                      purpose  \n",
       "0               покупка жилья  \n",
       "1     приобретение автомобиля  \n",
       "2               покупка жилья  \n",
       "3  дополнительное образование  \n",
       "4             сыграть свадьбу  "
      ]
     },
     "metadata": {},
     "output_type": "display_data"
    },
    {
     "name": "stdout",
     "output_type": "stream",
     "text": [
      "--------------------------------------------------\n",
      "Размер датафрейма: (строк:столбцов) (21525, 12)\n",
      "--------------------------------------------------\n",
      "Типы данных и общая информация\n",
      "<class 'pandas.core.frame.DataFrame'>\n",
      "RangeIndex: 21525 entries, 0 to 21524\n",
      "Data columns (total 12 columns):\n",
      " #   Column            Non-Null Count  Dtype  \n",
      "---  ------            --------------  -----  \n",
      " 0   children          21525 non-null  int64  \n",
      " 1   days_employed     19351 non-null  float64\n",
      " 2   dob_years         21525 non-null  int64  \n",
      " 3   education         21525 non-null  object \n",
      " 4   education_id      21525 non-null  int64  \n",
      " 5   family_status     21525 non-null  object \n",
      " 6   family_status_id  21525 non-null  int64  \n",
      " 7   gender            21525 non-null  object \n",
      " 8   income_type       21525 non-null  object \n",
      " 9   debt              21525 non-null  int64  \n",
      " 10  total_income      19351 non-null  float64\n",
      " 11  purpose           21525 non-null  object \n",
      "dtypes: float64(2), int64(5), object(5)\n",
      "memory usage: 2.0+ MB\n",
      "None\n",
      "--------------------------------------------------\n",
      "Наличие дубликатов: 54\n",
      "--------------------------------------------------\n",
      "Наличие пропусков\n",
      "--------------------------------------------------\n",
      "children               0\n",
      "days_employed       2174\n",
      "dob_years              0\n",
      "education              0\n",
      "education_id           0\n",
      "family_status          0\n",
      "family_status_id       0\n",
      "gender                 0\n",
      "income_type            0\n",
      "debt                   0\n",
      "total_income        2174\n",
      "purpose                0\n",
      "dtype: int64\n",
      "Стат данные\n",
      "--------------------------------------------------\n"
     ]
    },
    {
     "data": {
      "text/html": [
       "<div>\n",
       "<style scoped>\n",
       "    .dataframe tbody tr th:only-of-type {\n",
       "        vertical-align: middle;\n",
       "    }\n",
       "\n",
       "    .dataframe tbody tr th {\n",
       "        vertical-align: top;\n",
       "    }\n",
       "\n",
       "    .dataframe thead th {\n",
       "        text-align: right;\n",
       "    }\n",
       "</style>\n",
       "<table border=\"1\" class=\"dataframe\">\n",
       "  <thead>\n",
       "    <tr style=\"text-align: right;\">\n",
       "      <th></th>\n",
       "      <th>children</th>\n",
       "      <th>days_employed</th>\n",
       "      <th>dob_years</th>\n",
       "      <th>education_id</th>\n",
       "      <th>family_status_id</th>\n",
       "      <th>debt</th>\n",
       "      <th>total_income</th>\n",
       "    </tr>\n",
       "  </thead>\n",
       "  <tbody>\n",
       "    <tr>\n",
       "      <th>count</th>\n",
       "      <td>21525.000000</td>\n",
       "      <td>19351.000000</td>\n",
       "      <td>21525.000000</td>\n",
       "      <td>21525.000000</td>\n",
       "      <td>21525.000000</td>\n",
       "      <td>21525.000000</td>\n",
       "      <td>1.935100e+04</td>\n",
       "    </tr>\n",
       "    <tr>\n",
       "      <th>mean</th>\n",
       "      <td>0.538908</td>\n",
       "      <td>63046.497661</td>\n",
       "      <td>43.293380</td>\n",
       "      <td>0.817236</td>\n",
       "      <td>0.972544</td>\n",
       "      <td>0.080883</td>\n",
       "      <td>1.674223e+05</td>\n",
       "    </tr>\n",
       "    <tr>\n",
       "      <th>std</th>\n",
       "      <td>1.381587</td>\n",
       "      <td>140827.311974</td>\n",
       "      <td>12.574584</td>\n",
       "      <td>0.548138</td>\n",
       "      <td>1.420324</td>\n",
       "      <td>0.272661</td>\n",
       "      <td>1.029716e+05</td>\n",
       "    </tr>\n",
       "    <tr>\n",
       "      <th>min</th>\n",
       "      <td>-1.000000</td>\n",
       "      <td>-18388.949901</td>\n",
       "      <td>0.000000</td>\n",
       "      <td>0.000000</td>\n",
       "      <td>0.000000</td>\n",
       "      <td>0.000000</td>\n",
       "      <td>2.066726e+04</td>\n",
       "    </tr>\n",
       "    <tr>\n",
       "      <th>25%</th>\n",
       "      <td>0.000000</td>\n",
       "      <td>-2747.423625</td>\n",
       "      <td>33.000000</td>\n",
       "      <td>1.000000</td>\n",
       "      <td>0.000000</td>\n",
       "      <td>0.000000</td>\n",
       "      <td>1.030532e+05</td>\n",
       "    </tr>\n",
       "    <tr>\n",
       "      <th>50%</th>\n",
       "      <td>0.000000</td>\n",
       "      <td>-1203.369529</td>\n",
       "      <td>42.000000</td>\n",
       "      <td>1.000000</td>\n",
       "      <td>0.000000</td>\n",
       "      <td>0.000000</td>\n",
       "      <td>1.450179e+05</td>\n",
       "    </tr>\n",
       "    <tr>\n",
       "      <th>75%</th>\n",
       "      <td>1.000000</td>\n",
       "      <td>-291.095954</td>\n",
       "      <td>53.000000</td>\n",
       "      <td>1.000000</td>\n",
       "      <td>1.000000</td>\n",
       "      <td>0.000000</td>\n",
       "      <td>2.034351e+05</td>\n",
       "    </tr>\n",
       "    <tr>\n",
       "      <th>max</th>\n",
       "      <td>20.000000</td>\n",
       "      <td>401755.400475</td>\n",
       "      <td>75.000000</td>\n",
       "      <td>4.000000</td>\n",
       "      <td>4.000000</td>\n",
       "      <td>1.000000</td>\n",
       "      <td>2.265604e+06</td>\n",
       "    </tr>\n",
       "  </tbody>\n",
       "</table>\n",
       "</div>"
      ],
      "text/plain": [
       "           children  days_employed     dob_years  education_id  \\\n",
       "count  21525.000000   19351.000000  21525.000000  21525.000000   \n",
       "mean       0.538908   63046.497661     43.293380      0.817236   \n",
       "std        1.381587  140827.311974     12.574584      0.548138   \n",
       "min       -1.000000  -18388.949901      0.000000      0.000000   \n",
       "25%        0.000000   -2747.423625     33.000000      1.000000   \n",
       "50%        0.000000   -1203.369529     42.000000      1.000000   \n",
       "75%        1.000000    -291.095954     53.000000      1.000000   \n",
       "max       20.000000  401755.400475     75.000000      4.000000   \n",
       "\n",
       "       family_status_id          debt  total_income  \n",
       "count      21525.000000  21525.000000  1.935100e+04  \n",
       "mean           0.972544      0.080883  1.674223e+05  \n",
       "std            1.420324      0.272661  1.029716e+05  \n",
       "min            0.000000      0.000000  2.066726e+04  \n",
       "25%            0.000000      0.000000  1.030532e+05  \n",
       "50%            0.000000      0.000000  1.450179e+05  \n",
       "75%            1.000000      0.000000  2.034351e+05  \n",
       "max            4.000000      1.000000  2.265604e+06  "
      ]
     },
     "metadata": {},
     "output_type": "display_data"
    }
   ],
   "source": [
    "df_list = [data]\n",
    "for df in df_list:\n",
    "    print('Первые 5 строк')\n",
    "    print('-'*50)\n",
    "    display(df.head())\n",
    "    print('-'*50)\n",
    "    print('Размер датафрейма: (строк:столбцов) {}'.format(df.shape))\n",
    "    print('-'*50)\n",
    "    print('Типы данных и общая информация')\n",
    "    print(df.info())\n",
    "    print('-'*50)\n",
    "    print('Наличие дубликатов: {}'.format(df.duplicated().sum()))\n",
    "    print('-'*50)\n",
    "    print('Наличие пропусков')\n",
    "    print('-'*50)\n",
    "    print(df.isna().sum())\n",
    "    print('Стат данные')\n",
    "    print('-'*50)\n",
    "    display(df.describe())"
   ]
  },
  {
   "cell_type": "markdown",
   "id": "5429583d",
   "metadata": {},
   "source": [
    "В столбцах days_employed и total_income данных меньше ,чем в других столбцах. \n",
    "\n",
    "\n",
    "В столбце days_employed много отрицательных значений."
   ]
  },
  {
   "cell_type": "markdown",
   "id": "d44fe769",
   "metadata": {},
   "source": [
    "# Шаг 2. Предобработка данных"
   ]
  },
  {
   "cell_type": "markdown",
   "id": "016eeec7",
   "metadata": {},
   "source": [
    "## 2.1  Обработка пропусков"
   ]
  },
  {
   "cell_type": "code",
   "execution_count": 4,
   "id": "6c991a39",
   "metadata": {},
   "outputs": [],
   "source": [
    "income_grouped_mean = data.groupby('income_type')['total_income'].mean()"
   ]
  },
  {
   "cell_type": "code",
   "execution_count": 5,
   "id": "45f31ccc",
   "metadata": {},
   "outputs": [],
   "source": [
    "income_grouped_median = data.groupby('income_type')['total_income'].median()"
   ]
  },
  {
   "cell_type": "code",
   "execution_count": 6,
   "id": "61ea63c8",
   "metadata": {},
   "outputs": [],
   "source": [
    "def fillbygroup(data, row): \n",
    "    unique_inc_type = data['income_type'].unique()  # Заменяем пропуски на медиальные значения.\n",
    "    for type in unique_inc_type:\n",
    "        data.loc[data['income_type'] == type, row] = data.loc[data['income_type'] == type, row].fillna(data[data['income_type'] == type]['total_income'].median())\n",
    "    return data\n",
    "data = fillbygroup(data, 'total_income')"
   ]
  },
  {
   "cell_type": "code",
   "execution_count": 7,
   "id": "5271d9b2",
   "metadata": {},
   "outputs": [
    {
     "data": {
      "text/plain": [
       "children            0\n",
       "days_employed       0\n",
       "dob_years           0\n",
       "education           0\n",
       "education_id        0\n",
       "family_status       0\n",
       "family_status_id    0\n",
       "gender              0\n",
       "income_type         0\n",
       "debt                0\n",
       "total_income        0\n",
       "purpose             0\n",
       "age_group           0\n",
       "dtype: int64"
      ]
     },
     "execution_count": 7,
     "metadata": {},
     "output_type": "execute_result"
    }
   ],
   "source": [
    "# Чтобы заполнить пропущенные значения в столбце трудовой стаж (days_employed) в днях можно взять медиану для каждой группы возраста. Для этого создадим новый столбец \"age_group\"\n",
    "# 1 группа: 19 - 30\n",
    "# 2 группа: 30 - 40\n",
    "# 3  группа: 40 - 55 \n",
    "# 4  группа: 55 - 75\n",
    "\n",
    "def days_employed(row):\n",
    "    \n",
    "    age = row['dob_years']\n",
    "\n",
    "    if age <= 30:\n",
    "        return '1 группа'\n",
    "    \n",
    "    if age <= 40 and age > 30:\n",
    "        return '2 группа'\n",
    "    \n",
    "    if age <= 55 and age > 40:\n",
    "        return '3 группа'\n",
    "    \n",
    "    if age <= 80 and age > 55:\n",
    "        return '4 группа'\n",
    "\n",
    "data['age_group'] = data.apply(days_employed, axis=1)\n",
    "\n",
    "data['days_employed'] = data['days_employed'].fillna(0)\n",
    "data.isnull().sum()\n",
    "\n",
    "data.groupby('age_group')['days_employed'].mean()[0]\n",
    "\n",
    "data.loc[(data['age_group'] == '1 группа') & (data['days_employed'] == 0 ), 'days_employed'] = data.groupby('age_group')['days_employed'].mean()[0]\n",
    "data.loc[(data['age_group'] == '2 группа') & (data['days_employed'] == 0 ), 'days_employed'] = data.groupby('age_group')['days_employed'].mean()[1]\n",
    "data.loc[(data['age_group'] == '3 группа') & (data['days_employed'] == 0 ), 'days_employed'] = data.groupby('age_group')['days_employed'].mean()[2]\n",
    "data.loc[(data['age_group'] == '4 группа') & (data['days_employed'] == 0 ), 'days_employed'] = data.groupby('age_group')['days_employed'].mean()[3]\n",
    "\n",
    "data[data['total_income'] == 0].count()"
   ]
  },
  {
   "cell_type": "markdown",
   "id": "e5da77f5",
   "metadata": {},
   "source": [
    "Пропуски в столбцах \"общий трудовой стаж\" и \"средний доход\", я предполагаю, появились по причине того, что ( в основном он пропущен у возрастных людей) они жили в другой стране ( СССР ), их документы могут быть утрачены. Также могу предположить халатность сотрудников при приёме документов на кредитование и при внесение этой информации в базу данных. \n",
    "\n",
    "\n",
    "Данные среднего и медианы по некоторым столбцам совпадают, по другим отличаются незначительно. \n",
    "\n",
    "\n",
    "Использую для заполнения пропусков медиальные значения."
   ]
  },
  {
   "cell_type": "markdown",
   "id": "89088f44",
   "metadata": {},
   "source": [
    "## 2.2  Замена типа данных"
   ]
  },
  {
   "cell_type": "code",
   "execution_count": 8,
   "id": "473d46f8",
   "metadata": {},
   "outputs": [],
   "source": [
    "data['total_income'] = data['total_income'].round().astype('int') #  округляю значения в большую сторону и перевожу в 'int'\n",
    "data['days_employed'] = data['days_employed'].round().astype('int')"
   ]
  },
  {
   "cell_type": "code",
   "execution_count": 9,
   "id": "25f5268c",
   "metadata": {},
   "outputs": [
    {
     "name": "stdout",
     "output_type": "stream",
     "text": [
      "<class 'pandas.core.frame.DataFrame'>\n",
      "RangeIndex: 21525 entries, 0 to 21524\n",
      "Data columns (total 13 columns):\n",
      " #   Column            Non-Null Count  Dtype \n",
      "---  ------            --------------  ----- \n",
      " 0   children          21525 non-null  int64 \n",
      " 1   days_employed     21525 non-null  int32 \n",
      " 2   dob_years         21525 non-null  int64 \n",
      " 3   education         21525 non-null  object\n",
      " 4   education_id      21525 non-null  int64 \n",
      " 5   family_status     21525 non-null  object\n",
      " 6   family_status_id  21525 non-null  int64 \n",
      " 7   gender            21525 non-null  object\n",
      " 8   income_type       21525 non-null  object\n",
      " 9   debt              21525 non-null  int64 \n",
      " 10  total_income      21525 non-null  int32 \n",
      " 11  purpose           21525 non-null  object\n",
      " 12  age_group         21525 non-null  object\n",
      "dtypes: int32(2), int64(5), object(6)\n",
      "memory usage: 2.0+ MB\n"
     ]
    }
   ],
   "source": [
    "data.info()"
   ]
  },
  {
   "cell_type": "markdown",
   "id": "0686a467",
   "metadata": {},
   "source": [
    "Выбран метод DataFrame.astype() как наиболее удобный, для замены типа данных"
   ]
  },
  {
   "cell_type": "markdown",
   "id": "b36b9030",
   "metadata": {},
   "source": [
    "## 2.3  Обработка дубликатов"
   ]
  },
  {
   "cell_type": "code",
   "execution_count": 10,
   "id": "c670b4d0",
   "metadata": {},
   "outputs": [
    {
     "name": "stdout",
     "output_type": "stream",
     "text": [
      "54\n",
      "['высшее' 'среднее' 'Среднее' 'СРЕДНЕЕ' 'ВЫСШЕЕ' 'неоконченное высшее'\n",
      " 'начальное' 'Высшее' 'НЕОКОНЧЕННОЕ ВЫСШЕЕ' 'Неоконченное высшее'\n",
      " 'НАЧАЛЬНОЕ' 'Начальное' 'Ученая степень' 'УЧЕНАЯ СТЕПЕНЬ'\n",
      " 'ученая степень']\n",
      "0\n"
     ]
    }
   ],
   "source": [
    "print(data.duplicated().sum())\n",
    "print(data['education'].unique())\n",
    "data['education'] = data['education'].replace('ВЫСШЕЕ', 'высшее')   # переименовываем в однородные названия\n",
    "data['education'] = data['education'].replace('Высшее', 'высшее')\n",
    "data['education'] = data['education'].replace('СРЕДНЕЕ', 'среднее')\n",
    "data['education'] = data['education'].replace('Среднее', 'среднее')\n",
    "data['education'] = data['education'].replace('НЕОКОНЧЕННОЕ ВЫСШЕЕ', 'неоконченное высшее')\n",
    "data['education'] = data['education'].replace('Неоконченное высшее', 'неоконченное высшее')\n",
    "data['education'] = data['education'].replace('НАЧАЛЬНОЕ', 'начальное')\n",
    "data['education'] = data['education'].replace('Начальное', 'начальное')\n",
    "data['education'] = data['education'].replace('УЧЕНАЯ СТЕПЕНЬ', 'ученая степень')\n",
    "data['education'] = data['education'].replace('Ученая степень', 'ученая степень')\n",
    "data = data.drop_duplicates().reset_index()    # убираем дубликаты\n",
    "print(data.duplicated().sum())"
   ]
  },
  {
   "cell_type": "markdown",
   "id": "cfa95615",
   "metadata": {},
   "source": [
    "## 2.4  Лемматизация"
   ]
  },
  {
   "cell_type": "code",
   "execution_count": 11,
   "id": "d566ecfa",
   "metadata": {},
   "outputs": [
    {
     "data": {
      "text/plain": [
       "['покупка жилья',\n",
       " 'приобретение автомобиля',\n",
       " 'дополнительное образование',\n",
       " 'сыграть свадьбу',\n",
       " 'операции с жильем',\n",
       " 'образование',\n",
       " 'на проведение свадьбы',\n",
       " 'покупка жилья для семьи',\n",
       " 'покупка недвижимости',\n",
       " 'покупка коммерческой недвижимости',\n",
       " 'покупка жилой недвижимости',\n",
       " 'строительство собственной недвижимости',\n",
       " 'недвижимость',\n",
       " 'строительство недвижимости',\n",
       " 'на покупку подержанного автомобиля',\n",
       " 'на покупку своего автомобиля',\n",
       " 'операции с коммерческой недвижимостью',\n",
       " 'строительство жилой недвижимости',\n",
       " 'жилье',\n",
       " 'операции со своей недвижимостью',\n",
       " 'автомобили',\n",
       " 'заняться образованием',\n",
       " 'сделка с подержанным автомобилем',\n",
       " 'получение образования',\n",
       " 'автомобиль',\n",
       " 'свадьба',\n",
       " 'получение дополнительного образования',\n",
       " 'покупка своего жилья',\n",
       " 'операции с недвижимостью',\n",
       " 'получение высшего образования',\n",
       " 'свой автомобиль',\n",
       " 'сделка с автомобилем',\n",
       " 'профильное образование',\n",
       " 'высшее образование',\n",
       " 'покупка жилья для сдачи',\n",
       " 'на покупку автомобиля',\n",
       " 'ремонт жилью',\n",
       " 'заняться высшим образованием']"
      ]
     },
     "execution_count": 11,
     "metadata": {},
     "output_type": "execute_result"
    }
   ],
   "source": [
    "# Узнаем количество уникальных значений — 38\n",
    "unique_credit_purposes = df['purpose'].unique().tolist()\n",
    "unique_credit_purposes"
   ]
  },
  {
   "cell_type": "code",
   "execution_count": 12,
   "id": "7d40fddb",
   "metadata": {},
   "outputs": [
    {
     "name": "stdout",
     "output_type": "stream",
     "text": [
      "('покупка жилья; приобретение автомобиля; дополнительное образование; сыграть '\n",
      " 'свадьбу; операции с жильем; образование; на проведение свадьбы; покупка '\n",
      " 'жилья для семьи; покупка недвижимости; покупка коммерческой недвижимости; '\n",
      " 'покупка жилой недвижимости; строительство собственной недвижимости; '\n",
      " 'недвижимость; строительство недвижимости; на покупку подержанного '\n",
      " 'автомобиля; на покупку своего автомобиля; операции с коммерческой '\n",
      " 'недвижимостью; строительство жилой недвижимости; жилье; операции со своей '\n",
      " 'недвижимостью; автомобили; заняться образованием; сделка с подержанным '\n",
      " 'автомобилем; получение образования; автомобиль; свадьба; получение '\n",
      " 'дополнительного образования; покупка своего жилья; операции с недвижимостью; '\n",
      " 'получение высшего образования; свой автомобиль; сделка с автомобилем; '\n",
      " 'профильное образование; высшее образование; покупка жилья для сдачи; на '\n",
      " 'покупку автомобиля; ремонт жилью; заняться высшим образованием')\n"
     ]
    }
   ],
   "source": [
    "m = Mystem()\n",
    "string = '; '.join(unique_credit_purposes)\n",
    "pprint.pprint(string)"
   ]
  },
  {
   "cell_type": "code",
   "execution_count": 13,
   "id": "f7f9c23f",
   "metadata": {},
   "outputs": [
    {
     "name": "stdout",
     "output_type": "stream",
     "text": [
      "Counter({' ': 59,\n",
      "         '; ': 37,\n",
      "         'покупка': 10,\n",
      "         'недвижимость': 10,\n",
      "         'автомобиль': 9,\n",
      "         'образование': 9,\n",
      "         'жилье': 7,\n",
      "         'с': 5,\n",
      "         'операция': 4,\n",
      "         'на': 4,\n",
      "         'свой': 4,\n",
      "         'свадьба': 3,\n",
      "         'строительство': 3,\n",
      "         'получение': 3,\n",
      "         'высокий': 3,\n",
      "         'дополнительный': 2,\n",
      "         'для': 2,\n",
      "         'коммерческий': 2,\n",
      "         'жилой': 2,\n",
      "         'подержать': 2,\n",
      "         'заниматься': 2,\n",
      "         'сделка': 2,\n",
      "         'приобретение': 1,\n",
      "         'сыграть': 1,\n",
      "         'проведение': 1,\n",
      "         'семья': 1,\n",
      "         'собственный': 1,\n",
      "         'со': 1,\n",
      "         'профильный': 1,\n",
      "         'сдача': 1,\n",
      "         'ремонт': 1,\n",
      "         '\\n': 1})\n"
     ]
    }
   ],
   "source": [
    "lemmas = m.lemmatize(string)\n",
    "pprint.pprint(Counter(lemmas))"
   ]
  },
  {
   "cell_type": "markdown",
   "id": "fd502462",
   "metadata": {},
   "source": [
    "После группировки цели кредита разделены на 4 группы (автомобиль, образование, свадьба, недвижимость)"
   ]
  },
  {
   "cell_type": "markdown",
   "id": "e073fca0",
   "metadata": {},
   "source": [
    "## 2.5  Категоризация данных"
   ]
  },
  {
   "cell_type": "code",
   "execution_count": 14,
   "id": "b9c36f36",
   "metadata": {},
   "outputs": [],
   "source": [
    "# Сгрупируем данные о доходе в месяц \n",
    "# 1 группа: 15 - 55\n",
    "# 2 группа: 55 - 120\n",
    "# 3  группа: 120 - 200\n",
    "# 4  группа: 200 - 2000000\n",
    "\n",
    "def income_group(row):\n",
    "    \n",
    "    income = row['total_income']\n",
    "\n",
    "    if income <= 55000:\n",
    "        return 'Доход 15-55'\n",
    "    \n",
    "    if income <= 120000 and income > 55000:\n",
    "        return 'Доход 55-20'\n",
    "    \n",
    "    if income <= 200000 and income > 120000:\n",
    "        return 'Доход 120-200'\n",
    "    \n",
    "    if income <= 4000000 and income > 200000:\n",
    "        return 'Доход > 200'\n",
    "\n",
    "data['income_gr'] = data.apply(income_group, axis=1)\n",
    "\n",
    "#print(data['children'].value_counts())\n",
    "data['children'] = data['children'].apply(abs) # убираю отрицательные значения по количеству детей.\n",
    "data['days_employed'] = data['days_employed'].apply(abs) # Убираем отрицательные значения. ( в трудовом стаже их быть не может)"
   ]
  },
  {
   "cell_type": "markdown",
   "id": "cb09574d",
   "metadata": {},
   "source": [
    "Отрицательные значения могли появиться, как ошибки при вводе данных."
   ]
  },
  {
   "cell_type": "markdown",
   "id": "d8f69d33",
   "metadata": {},
   "source": [
    "# Шаг 3. Ответим на вопросы"
   ]
  },
  {
   "cell_type": "markdown",
   "id": "e711b2ff",
   "metadata": {},
   "source": [
    "## 3.1 Есть ли зависимость между наличием детей и возвратом кредита в срок?"
   ]
  },
  {
   "cell_type": "code",
   "execution_count": 15,
   "id": "2ed751bb",
   "metadata": {},
   "outputs": [],
   "source": [
    "number_of_children_set = df.groupby('children')['debt'].sum() / \\\n",
    "    df.groupby('children')['debt'].count() * 100"
   ]
  },
  {
   "cell_type": "code",
   "execution_count": 16,
   "id": "b99863e6",
   "metadata": {},
   "outputs": [
    {
     "data": {
      "text/plain": [
       "children\n",
       "-1      2.127660\n",
       " 0      7.512898\n",
       " 1      9.215442\n",
       " 2      9.440389\n",
       " 3      8.181818\n",
       " 4      9.756098\n",
       " 5      0.000000\n",
       " 20    10.526316\n",
       "Name: debt, dtype: float64"
      ]
     },
     "execution_count": 16,
     "metadata": {},
     "output_type": "execute_result"
    }
   ],
   "source": [
    "number_of_children_set"
   ]
  },
  {
   "cell_type": "code",
   "execution_count": 17,
   "id": "84b19c4e",
   "metadata": {},
   "outputs": [
    {
     "data": {
      "text/plain": [
       "children\n",
       "-1        47\n",
       " 0     14149\n",
       " 1      4818\n",
       " 2      2055\n",
       " 3       330\n",
       " 4        41\n",
       " 5         9\n",
       " 20       76\n",
       "Name: debt, dtype: int64"
      ]
     },
     "execution_count": 17,
     "metadata": {},
     "output_type": "execute_result"
    }
   ],
   "source": [
    "grouped_number_of_children = df.groupby('children')['debt'].count()\n",
    "grouped_number_of_children"
   ]
  },
  {
   "cell_type": "code",
   "execution_count": 18,
   "id": "01778501",
   "metadata": {},
   "outputs": [
    {
     "data": {
      "text/html": [
       "<div>\n",
       "<style scoped>\n",
       "    .dataframe tbody tr th:only-of-type {\n",
       "        vertical-align: middle;\n",
       "    }\n",
       "\n",
       "    .dataframe tbody tr th {\n",
       "        vertical-align: top;\n",
       "    }\n",
       "\n",
       "    .dataframe thead th {\n",
       "        text-align: right;\n",
       "    }\n",
       "</style>\n",
       "<table border=\"1\" class=\"dataframe\">\n",
       "  <thead>\n",
       "    <tr style=\"text-align: right;\">\n",
       "      <th>debt</th>\n",
       "      <th>0</th>\n",
       "      <th>1</th>\n",
       "      <th>ratio</th>\n",
       "    </tr>\n",
       "    <tr>\n",
       "      <th>children</th>\n",
       "      <th></th>\n",
       "      <th></th>\n",
       "      <th></th>\n",
       "    </tr>\n",
       "  </thead>\n",
       "  <tbody>\n",
       "    <tr>\n",
       "      <th>-1</th>\n",
       "      <td>46.0</td>\n",
       "      <td>1.0</td>\n",
       "      <td>2.173913</td>\n",
       "    </tr>\n",
       "    <tr>\n",
       "      <th>0</th>\n",
       "      <td>13086.0</td>\n",
       "      <td>1063.0</td>\n",
       "      <td>8.123185</td>\n",
       "    </tr>\n",
       "    <tr>\n",
       "      <th>1</th>\n",
       "      <td>4374.0</td>\n",
       "      <td>444.0</td>\n",
       "      <td>10.150892</td>\n",
       "    </tr>\n",
       "    <tr>\n",
       "      <th>2</th>\n",
       "      <td>1861.0</td>\n",
       "      <td>194.0</td>\n",
       "      <td>10.424503</td>\n",
       "    </tr>\n",
       "    <tr>\n",
       "      <th>3</th>\n",
       "      <td>303.0</td>\n",
       "      <td>27.0</td>\n",
       "      <td>8.910891</td>\n",
       "    </tr>\n",
       "    <tr>\n",
       "      <th>4</th>\n",
       "      <td>37.0</td>\n",
       "      <td>4.0</td>\n",
       "      <td>10.810811</td>\n",
       "    </tr>\n",
       "    <tr>\n",
       "      <th>5</th>\n",
       "      <td>9.0</td>\n",
       "      <td>NaN</td>\n",
       "      <td>NaN</td>\n",
       "    </tr>\n",
       "    <tr>\n",
       "      <th>20</th>\n",
       "      <td>68.0</td>\n",
       "      <td>8.0</td>\n",
       "      <td>11.764706</td>\n",
       "    </tr>\n",
       "  </tbody>\n",
       "</table>\n",
       "</div>"
      ],
      "text/plain": [
       "debt            0       1      ratio\n",
       "children                            \n",
       "-1           46.0     1.0   2.173913\n",
       " 0        13086.0  1063.0   8.123185\n",
       " 1         4374.0   444.0  10.150892\n",
       " 2         1861.0   194.0  10.424503\n",
       " 3          303.0    27.0   8.910891\n",
       " 4           37.0     4.0  10.810811\n",
       " 5            9.0     NaN        NaN\n",
       " 20          68.0     8.0  11.764706"
      ]
     },
     "execution_count": 18,
     "metadata": {},
     "output_type": "execute_result"
    }
   ],
   "source": [
    "children_pivot = df.pivot_table(index = ['children'], \\\n",
    "                                columns = ['debt'], \\\n",
    "                                values = 'purpose', aggfunc='count')\n",
    "\n",
    "children_pivot['ratio'] = children_pivot[1] / children_pivot[0] * 100\n",
    "children_pivot"
   ]
  },
  {
   "cell_type": "markdown",
   "id": "b8f7c34e",
   "metadata": {},
   "source": [
    "Можно отметить, что люди с 5 детьми показывают 0, но выборка по ним не репрезентативна. \n",
    "\n",
    "Бездетные отдают кредиты хуже."
   ]
  },
  {
   "cell_type": "markdown",
   "id": "bb4ff5aa",
   "metadata": {},
   "source": [
    "## 3.2 Есть ли зависимость между семейным положением и возвратом кредита в срок?"
   ]
  },
  {
   "cell_type": "code",
   "execution_count": 19,
   "id": "9476db39",
   "metadata": {},
   "outputs": [
    {
     "name": "stdout",
     "output_type": "stream",
     "text": [
      "женат / замужем          16490\n",
      "Не женат / не замужем     2810\n",
      "в разводе                 1195\n",
      "вдовец / вдова             959\n",
      "Name: family_status, dtype: int64\n"
     ]
    },
    {
     "data": {
      "text/html": [
       "<div>\n",
       "<style scoped>\n",
       "    .dataframe tbody tr th:only-of-type {\n",
       "        vertical-align: middle;\n",
       "    }\n",
       "\n",
       "    .dataframe tbody tr th {\n",
       "        vertical-align: top;\n",
       "    }\n",
       "\n",
       "    .dataframe thead th {\n",
       "        text-align: right;\n",
       "    }\n",
       "</style>\n",
       "<table border=\"1\" class=\"dataframe\">\n",
       "  <thead>\n",
       "    <tr style=\"text-align: right;\">\n",
       "      <th></th>\n",
       "      <th>conversion table</th>\n",
       "    </tr>\n",
       "    <tr>\n",
       "      <th>family_status</th>\n",
       "      <th></th>\n",
       "    </tr>\n",
       "  </thead>\n",
       "  <tbody>\n",
       "    <tr>\n",
       "      <th>Не женат / не замужем</th>\n",
       "      <td>0.098</td>\n",
       "    </tr>\n",
       "    <tr>\n",
       "      <th>в разводе</th>\n",
       "      <td>0.071</td>\n",
       "    </tr>\n",
       "    <tr>\n",
       "      <th>вдовец / вдова</th>\n",
       "      <td>0.066</td>\n",
       "    </tr>\n",
       "    <tr>\n",
       "      <th>женат / замужем</th>\n",
       "      <td>0.080</td>\n",
       "    </tr>\n",
       "  </tbody>\n",
       "</table>\n",
       "</div>"
      ],
      "text/plain": [
       "                       conversion table\n",
       "family_status                          \n",
       "Не женат / не замужем             0.098\n",
       "в разводе                         0.071\n",
       "вдовец / вдова                    0.066\n",
       "женат / замужем                   0.080"
      ]
     },
     "execution_count": 19,
     "metadata": {},
     "output_type": "execute_result"
    }
   ],
   "source": [
    "data = data.replace('гражданский брак', 'женат / замужем')\n",
    "data.reset_index(drop=True)\n",
    "print(data['family_status'].value_counts())\n",
    "fam_conv = (data[data['debt'] == 1].groupby('family_status')['debt'].count() / data.groupby('family_status')['debt'].count()).round(3)\n",
    "fam_conv.to_frame('conversion table')"
   ]
  },
  {
   "cell_type": "markdown",
   "id": "4201237b",
   "metadata": {},
   "source": [
    "Несемейные люди возвращают кредиты хуже всех. \n",
    "\n",
    "Семейные люди лучше планируют свой бюджет. \n",
    "\n",
    "Интересные результаты по людям, побывавшим в браке, они оказываются самыми ответственными кредиторами"
   ]
  },
  {
   "cell_type": "markdown",
   "id": "b4e8f9ed",
   "metadata": {},
   "source": [
    "## 3.3 Есть ли зависимость между уровнем дохода и возвратом кредита в срок?"
   ]
  },
  {
   "cell_type": "code",
   "execution_count": 20,
   "id": "a90dc219",
   "metadata": {},
   "outputs": [
    {
     "name": "stdout",
     "output_type": "stream",
     "text": [
      "9.53% Доход 120-200\n",
      "6.42% Доход 15-55\n",
      "9.03% Доход 55-20\n",
      "7.60% Доход > 200\n"
     ]
    }
   ],
   "source": [
    "data_pivot3 = data.pivot_table(index=['debt'], columns='income_gr', values='age_group', aggfunc='count')\n",
    "\n",
    "in1 = data_pivot3['Доход 120-200'][1] / data_pivot3['Доход 120-200'][0]\n",
    "in2 = data_pivot3['Доход 15-55'][1] / data_pivot3['Доход 15-55'][0]\n",
    "in3 = data_pivot3['Доход 55-20'][1] / data_pivot3['Доход 55-20'][0]\n",
    "in4 = data_pivot3['Доход > 200'][1] / data_pivot3['Доход > 200'][0]\n",
    "\n",
    "print(\"{0:.2f}% Доход 120-200\".format(in1*100))\n",
    "print(\"{0:.2f}% Доход 15-55\".format(in2*100))\n",
    "print(\"{0:.2f}% Доход 55-20\".format(in3*100))\n",
    "print(\"{0:.2f}% Доход > 200\".format(in4*100))"
   ]
  },
  {
   "cell_type": "markdown",
   "id": "86e7ca61",
   "metadata": {},
   "source": [
    "Люди с небольшим доходом, максимально ответственно относятся к своим кридитам, а так же люди с большим доходом."
   ]
  },
  {
   "cell_type": "markdown",
   "id": "b25edca5",
   "metadata": {},
   "source": [
    "## 3.4 Как разные цели кредита влияют на его возврат в срок?"
   ]
  },
  {
   "cell_type": "code",
   "execution_count": 22,
   "id": "3839cbb1",
   "metadata": {},
   "outputs": [
    {
     "data": {
      "text/plain": [
       "['Недвижимость',\n",
       " 'Автомобиль',\n",
       " 'Образование',\n",
       " 'Свадьба',\n",
       " 'Недвижимость',\n",
       " 'Образование',\n",
       " 'Свадьба',\n",
       " 'Недвижимость',\n",
       " 'Недвижимость',\n",
       " 'Недвижимость',\n",
       " 'Недвижимость',\n",
       " 'Недвижимость',\n",
       " 'Недвижимость',\n",
       " 'Недвижимость',\n",
       " 'Автомобиль',\n",
       " 'Автомобиль',\n",
       " 'Недвижимость',\n",
       " 'Недвижимость',\n",
       " 'Недвижимость',\n",
       " 'Недвижимость',\n",
       " 'Автомобиль',\n",
       " 'Образование',\n",
       " 'Автомобиль',\n",
       " 'Образование',\n",
       " 'Автомобиль',\n",
       " 'Свадьба',\n",
       " 'Образование',\n",
       " 'Недвижимость',\n",
       " 'Недвижимость',\n",
       " 'Образование',\n",
       " 'Автомобиль',\n",
       " 'Автомобиль',\n",
       " 'Образование',\n",
       " 'Образование',\n",
       " 'Недвижимость',\n",
       " 'Автомобиль',\n",
       " 'Недвижимость',\n",
       " 'Образование']"
      ]
     },
     "execution_count": 22,
     "metadata": {},
     "output_type": "execute_result"
    }
   ],
   "source": [
    "# Попробуем через map(), составим словарь из двух списков\n",
    "credit_purpose_keys= []\n",
    "credit_purpose_list = list(df.purpose.unique())\n",
    "for value in range(len(credit_purpose_list)):\n",
    "    if 'образован' in credit_purpose_list[value]:\n",
    "        credit_purpose_keys.append('Образование')\n",
    "    elif 'авто' in credit_purpose_list[value]:\n",
    "        credit_purpose_keys.append('Автомобиль')\n",
    "    elif 'свадь' in credit_purpose_list[value]:\n",
    "        credit_purpose_keys.append('Свадьба')\n",
    "    else:\n",
    "        credit_purpose_keys.append('Недвижимость')\n",
    "        \n",
    "credit_purpose_keys"
   ]
  },
  {
   "cell_type": "code",
   "execution_count": 23,
   "id": "27156c97",
   "metadata": {},
   "outputs": [],
   "source": [
    "credit_purpose_dict = dict(zip(credit_purpose_list, credit_purpose_keys))"
   ]
  },
  {
   "cell_type": "code",
   "execution_count": 25,
   "id": "a1e7e1ee",
   "metadata": {},
   "outputs": [],
   "source": [
    "df['credit_purpose_status'] = df['purpose'].map(credit_purpose_dict)"
   ]
  },
  {
   "cell_type": "code",
   "execution_count": 28,
   "id": "3782a250",
   "metadata": {},
   "outputs": [
    {
     "data": {
      "text/html": [
       "<div>\n",
       "<style scoped>\n",
       "    .dataframe tbody tr th:only-of-type {\n",
       "        vertical-align: middle;\n",
       "    }\n",
       "\n",
       "    .dataframe tbody tr th {\n",
       "        vertical-align: top;\n",
       "    }\n",
       "\n",
       "    .dataframe thead th {\n",
       "        text-align: right;\n",
       "    }\n",
       "</style>\n",
       "<table border=\"1\" class=\"dataframe\">\n",
       "  <thead>\n",
       "    <tr style=\"text-align: right;\">\n",
       "      <th>debt</th>\n",
       "      <th>0</th>\n",
       "      <th>1</th>\n",
       "      <th>ratio</th>\n",
       "    </tr>\n",
       "    <tr>\n",
       "      <th>credit_purpose_status</th>\n",
       "      <th></th>\n",
       "      <th></th>\n",
       "      <th></th>\n",
       "    </tr>\n",
       "  </thead>\n",
       "  <tbody>\n",
       "    <tr>\n",
       "      <th>Автомобиль</th>\n",
       "      <td>3912</td>\n",
       "      <td>403</td>\n",
       "      <td>10.301636</td>\n",
       "    </tr>\n",
       "    <tr>\n",
       "      <th>Недвижимость</th>\n",
       "      <td>10058</td>\n",
       "      <td>782</td>\n",
       "      <td>7.774906</td>\n",
       "    </tr>\n",
       "    <tr>\n",
       "      <th>Образование</th>\n",
       "      <td>3652</td>\n",
       "      <td>370</td>\n",
       "      <td>10.131435</td>\n",
       "    </tr>\n",
       "    <tr>\n",
       "      <th>Свадьба</th>\n",
       "      <td>2162</td>\n",
       "      <td>186</td>\n",
       "      <td>8.603145</td>\n",
       "    </tr>\n",
       "  </tbody>\n",
       "</table>\n",
       "</div>"
      ],
      "text/plain": [
       "debt                       0    1      ratio\n",
       "credit_purpose_status                       \n",
       "Автомобиль              3912  403  10.301636\n",
       "Недвижимость           10058  782   7.774906\n",
       "Образование             3652  370  10.131435\n",
       "Свадьба                 2162  186   8.603145"
      ]
     },
     "execution_count": 28,
     "metadata": {},
     "output_type": "execute_result"
    }
   ],
   "source": [
    "credit_purpose_pivot = df.pivot_table(index=['credit_purpose_status'], columns=['debt'], values='education_id', aggfunc='count')\n",
    "credit_purpose_pivot['ratio'] = credit_purpose_pivot[1] / credit_purpose_pivot[0] * 100\n",
    "credit_purpose_pivot"
   ]
  },
  {
   "cell_type": "markdown",
   "id": "dbc1b76d",
   "metadata": {},
   "source": [
    "Хуже всего выглядят свадьбы и недвижимость. Выглядит логично, ипотека — пожалуй, самая крупная кредитная и рисковая сделка для частного лица. Свадьбы — это не инвестиционный проект и это неликвидный кредит, который по сути проедают."
   ]
  },
  {
   "cell_type": "markdown",
   "id": "de5bff75",
   "metadata": {},
   "source": [
    "# Шаг 4. Общий вывод"
   ]
  },
  {
   "cell_type": "markdown",
   "id": "6daf005b",
   "metadata": {},
   "source": [
    "При работе с данными были заполнены пропущенные значения, удалены дубликаты и выделены категории для целей кредита, группы по возрасту. \n",
    "\n",
    "Применив сводные таблицы, я оценил, какие критерии влияют на возврат кредита. \n",
    "\n",
    "Дополнительный анализ может помочь более точно предсказать вероятность выплаты кредита в срок и подготовить предложения по кредитованию для точечных групп клиентов."
   ]
  }
 ],
 "metadata": {
  "kernelspec": {
   "display_name": "Python 3 (ipykernel)",
   "language": "python",
   "name": "python3"
  },
  "language_info": {
   "codemirror_mode": {
    "name": "ipython",
    "version": 3
   },
   "file_extension": ".py",
   "mimetype": "text/x-python",
   "name": "python",
   "nbconvert_exporter": "python",
   "pygments_lexer": "ipython3",
   "version": "3.9.7"
  }
 },
 "nbformat": 4,
 "nbformat_minor": 5
}
