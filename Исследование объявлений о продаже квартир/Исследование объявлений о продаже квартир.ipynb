{
 "cells": [
  {
   "cell_type": "markdown",
   "id": "fe913b2c",
   "metadata": {},
   "source": [
    "# Исследование объявлений о продаже квартир"
   ]
  },
  {
   "cell_type": "markdown",
   "id": "941d5721",
   "metadata": {},
   "source": [
    "# Содержание"
   ]
  },
  {
   "cell_type": "markdown",
   "id": "cfcab0d9",
   "metadata": {},
   "source": [
    "- Шаг 1. Загрузим данные и подготовим их к анализу\n",
    "- Шаг 2. Предобработка данных\n",
    "- Шаг 3. Расчёты и добавление результатов в таблицу\n",
    "- Шаг 4. Исследовательский анализ данных\n",
    "- Шаг 5. Общий вывод"
   ]
  },
  {
   "cell_type": "markdown",
   "id": "fabfc14c",
   "metadata": {},
   "source": [
    "# Шаг 1. Загрузим данные и подготовим их к анализу"
   ]
  },
  {
   "cell_type": "code",
   "execution_count": 1,
   "id": "072305e6",
   "metadata": {},
   "outputs": [],
   "source": [
    "import pandas as pd\n",
    "%matplotlib inline\n",
    "import matplotlib.pyplot as plt\n",
    "import seaborn as sns\n",
    "sns.set()\n",
    "pd.options.display.float_format = '{:,.2f}'.format\n",
    "pd.options.display.max_columns = 100"
   ]
  },
  {
   "cell_type": "code",
   "execution_count": 2,
   "id": "8489445e",
   "metadata": {},
   "outputs": [],
   "source": [
    "df = pd.read_csv('/datasets/real_estate_data.csv', sep = '\\t')"
   ]
  },
  {
   "cell_type": "code",
   "execution_count": 3,
   "id": "972e2655",
   "metadata": {},
   "outputs": [
    {
     "name": "stdout",
     "output_type": "stream",
     "text": [
      "Первые 5 строк\n",
      "--------------------------------------------------\n"
     ]
    },
    {
     "data": {
      "text/html": [
       "<div>\n",
       "<style scoped>\n",
       "    .dataframe tbody tr th:only-of-type {\n",
       "        vertical-align: middle;\n",
       "    }\n",
       "\n",
       "    .dataframe tbody tr th {\n",
       "        vertical-align: top;\n",
       "    }\n",
       "\n",
       "    .dataframe thead th {\n",
       "        text-align: right;\n",
       "    }\n",
       "</style>\n",
       "<table border=\"1\" class=\"dataframe\">\n",
       "  <thead>\n",
       "    <tr style=\"text-align: right;\">\n",
       "      <th></th>\n",
       "      <th>total_images</th>\n",
       "      <th>last_price</th>\n",
       "      <th>total_area</th>\n",
       "      <th>first_day_exposition</th>\n",
       "      <th>rooms</th>\n",
       "      <th>ceiling_height</th>\n",
       "      <th>floors_total</th>\n",
       "      <th>living_area</th>\n",
       "      <th>floor</th>\n",
       "      <th>is_apartment</th>\n",
       "      <th>studio</th>\n",
       "      <th>open_plan</th>\n",
       "      <th>kitchen_area</th>\n",
       "      <th>balcony</th>\n",
       "      <th>locality_name</th>\n",
       "      <th>airports_nearest</th>\n",
       "      <th>cityCenters_nearest</th>\n",
       "      <th>parks_around3000</th>\n",
       "      <th>parks_nearest</th>\n",
       "      <th>ponds_around3000</th>\n",
       "      <th>ponds_nearest</th>\n",
       "      <th>days_exposition</th>\n",
       "    </tr>\n",
       "  </thead>\n",
       "  <tbody>\n",
       "    <tr>\n",
       "      <th>0</th>\n",
       "      <td>20</td>\n",
       "      <td>13,000,000.00</td>\n",
       "      <td>108.00</td>\n",
       "      <td>2019-03-07T00:00:00</td>\n",
       "      <td>3</td>\n",
       "      <td>2.70</td>\n",
       "      <td>16.00</td>\n",
       "      <td>51.00</td>\n",
       "      <td>8</td>\n",
       "      <td>NaN</td>\n",
       "      <td>False</td>\n",
       "      <td>False</td>\n",
       "      <td>25.00</td>\n",
       "      <td>NaN</td>\n",
       "      <td>Санкт-Петербург</td>\n",
       "      <td>18,863.00</td>\n",
       "      <td>16,028.00</td>\n",
       "      <td>1.00</td>\n",
       "      <td>482.00</td>\n",
       "      <td>2.00</td>\n",
       "      <td>755.00</td>\n",
       "      <td>NaN</td>\n",
       "    </tr>\n",
       "    <tr>\n",
       "      <th>1</th>\n",
       "      <td>7</td>\n",
       "      <td>3,350,000.00</td>\n",
       "      <td>40.40</td>\n",
       "      <td>2018-12-04T00:00:00</td>\n",
       "      <td>1</td>\n",
       "      <td>NaN</td>\n",
       "      <td>11.00</td>\n",
       "      <td>18.60</td>\n",
       "      <td>1</td>\n",
       "      <td>NaN</td>\n",
       "      <td>False</td>\n",
       "      <td>False</td>\n",
       "      <td>11.00</td>\n",
       "      <td>2.00</td>\n",
       "      <td>посёлок Шушары</td>\n",
       "      <td>12,817.00</td>\n",
       "      <td>18,603.00</td>\n",
       "      <td>0.00</td>\n",
       "      <td>NaN</td>\n",
       "      <td>0.00</td>\n",
       "      <td>NaN</td>\n",
       "      <td>81.00</td>\n",
       "    </tr>\n",
       "    <tr>\n",
       "      <th>2</th>\n",
       "      <td>10</td>\n",
       "      <td>5,196,000.00</td>\n",
       "      <td>56.00</td>\n",
       "      <td>2015-08-20T00:00:00</td>\n",
       "      <td>2</td>\n",
       "      <td>NaN</td>\n",
       "      <td>5.00</td>\n",
       "      <td>34.30</td>\n",
       "      <td>4</td>\n",
       "      <td>NaN</td>\n",
       "      <td>False</td>\n",
       "      <td>False</td>\n",
       "      <td>8.30</td>\n",
       "      <td>0.00</td>\n",
       "      <td>Санкт-Петербург</td>\n",
       "      <td>21,741.00</td>\n",
       "      <td>13,933.00</td>\n",
       "      <td>1.00</td>\n",
       "      <td>90.00</td>\n",
       "      <td>2.00</td>\n",
       "      <td>574.00</td>\n",
       "      <td>558.00</td>\n",
       "    </tr>\n",
       "    <tr>\n",
       "      <th>3</th>\n",
       "      <td>0</td>\n",
       "      <td>64,900,000.00</td>\n",
       "      <td>159.00</td>\n",
       "      <td>2015-07-24T00:00:00</td>\n",
       "      <td>3</td>\n",
       "      <td>NaN</td>\n",
       "      <td>14.00</td>\n",
       "      <td>NaN</td>\n",
       "      <td>9</td>\n",
       "      <td>NaN</td>\n",
       "      <td>False</td>\n",
       "      <td>False</td>\n",
       "      <td>NaN</td>\n",
       "      <td>0.00</td>\n",
       "      <td>Санкт-Петербург</td>\n",
       "      <td>28,098.00</td>\n",
       "      <td>6,800.00</td>\n",
       "      <td>2.00</td>\n",
       "      <td>84.00</td>\n",
       "      <td>3.00</td>\n",
       "      <td>234.00</td>\n",
       "      <td>424.00</td>\n",
       "    </tr>\n",
       "    <tr>\n",
       "      <th>4</th>\n",
       "      <td>2</td>\n",
       "      <td>10,000,000.00</td>\n",
       "      <td>100.00</td>\n",
       "      <td>2018-06-19T00:00:00</td>\n",
       "      <td>2</td>\n",
       "      <td>3.03</td>\n",
       "      <td>14.00</td>\n",
       "      <td>32.00</td>\n",
       "      <td>13</td>\n",
       "      <td>NaN</td>\n",
       "      <td>False</td>\n",
       "      <td>False</td>\n",
       "      <td>41.00</td>\n",
       "      <td>NaN</td>\n",
       "      <td>Санкт-Петербург</td>\n",
       "      <td>31,856.00</td>\n",
       "      <td>8,098.00</td>\n",
       "      <td>2.00</td>\n",
       "      <td>112.00</td>\n",
       "      <td>1.00</td>\n",
       "      <td>48.00</td>\n",
       "      <td>121.00</td>\n",
       "    </tr>\n",
       "  </tbody>\n",
       "</table>\n",
       "</div>"
      ],
      "text/plain": [
       "   total_images    last_price  total_area first_day_exposition  rooms  \\\n",
       "0            20 13,000,000.00      108.00  2019-03-07T00:00:00      3   \n",
       "1             7  3,350,000.00       40.40  2018-12-04T00:00:00      1   \n",
       "2            10  5,196,000.00       56.00  2015-08-20T00:00:00      2   \n",
       "3             0 64,900,000.00      159.00  2015-07-24T00:00:00      3   \n",
       "4             2 10,000,000.00      100.00  2018-06-19T00:00:00      2   \n",
       "\n",
       "   ceiling_height  floors_total  living_area  floor is_apartment  studio  \\\n",
       "0            2.70         16.00        51.00      8          NaN   False   \n",
       "1             NaN         11.00        18.60      1          NaN   False   \n",
       "2             NaN          5.00        34.30      4          NaN   False   \n",
       "3             NaN         14.00          NaN      9          NaN   False   \n",
       "4            3.03         14.00        32.00     13          NaN   False   \n",
       "\n",
       "   open_plan  kitchen_area  balcony    locality_name  airports_nearest  \\\n",
       "0      False         25.00      NaN  Санкт-Петербург         18,863.00   \n",
       "1      False         11.00     2.00   посёлок Шушары         12,817.00   \n",
       "2      False          8.30     0.00  Санкт-Петербург         21,741.00   \n",
       "3      False           NaN     0.00  Санкт-Петербург         28,098.00   \n",
       "4      False         41.00      NaN  Санкт-Петербург         31,856.00   \n",
       "\n",
       "   cityCenters_nearest  parks_around3000  parks_nearest  ponds_around3000  \\\n",
       "0            16,028.00              1.00         482.00              2.00   \n",
       "1            18,603.00              0.00            NaN              0.00   \n",
       "2            13,933.00              1.00          90.00              2.00   \n",
       "3             6,800.00              2.00          84.00              3.00   \n",
       "4             8,098.00              2.00         112.00              1.00   \n",
       "\n",
       "   ponds_nearest  days_exposition  \n",
       "0         755.00              NaN  \n",
       "1            NaN            81.00  \n",
       "2         574.00           558.00  \n",
       "3         234.00           424.00  \n",
       "4          48.00           121.00  "
      ]
     },
     "metadata": {},
     "output_type": "display_data"
    },
    {
     "name": "stdout",
     "output_type": "stream",
     "text": [
      "--------------------------------------------------\n",
      "Размер датафрейма: (строк:столбцов) (23699, 22)\n",
      "--------------------------------------------------\n",
      "Типы данных и общая информация\n",
      "<class 'pandas.core.frame.DataFrame'>\n",
      "RangeIndex: 23699 entries, 0 to 23698\n",
      "Data columns (total 22 columns):\n",
      " #   Column                Non-Null Count  Dtype  \n",
      "---  ------                --------------  -----  \n",
      " 0   total_images          23699 non-null  int64  \n",
      " 1   last_price            23699 non-null  float64\n",
      " 2   total_area            23699 non-null  float64\n",
      " 3   first_day_exposition  23699 non-null  object \n",
      " 4   rooms                 23699 non-null  int64  \n",
      " 5   ceiling_height        14504 non-null  float64\n",
      " 6   floors_total          23613 non-null  float64\n",
      " 7   living_area           21796 non-null  float64\n",
      " 8   floor                 23699 non-null  int64  \n",
      " 9   is_apartment          2775 non-null   object \n",
      " 10  studio                23699 non-null  bool   \n",
      " 11  open_plan             23699 non-null  bool   \n",
      " 12  kitchen_area          21421 non-null  float64\n",
      " 13  balcony               12180 non-null  float64\n",
      " 14  locality_name         23650 non-null  object \n",
      " 15  airports_nearest      18157 non-null  float64\n",
      " 16  cityCenters_nearest   18180 non-null  float64\n",
      " 17  parks_around3000      18181 non-null  float64\n",
      " 18  parks_nearest         8079 non-null   float64\n",
      " 19  ponds_around3000      18181 non-null  float64\n",
      " 20  ponds_nearest         9110 non-null   float64\n",
      " 21  days_exposition       20518 non-null  float64\n",
      "dtypes: bool(2), float64(14), int64(3), object(3)\n",
      "memory usage: 3.7+ MB\n",
      "None\n",
      "--------------------------------------------------\n",
      "Наличие дубликатов: 0\n",
      "--------------------------------------------------\n",
      "Наличие пропусков\n",
      "--------------------------------------------------\n",
      "total_images                0\n",
      "last_price                  0\n",
      "total_area                  0\n",
      "first_day_exposition        0\n",
      "rooms                       0\n",
      "ceiling_height           9195\n",
      "floors_total               86\n",
      "living_area              1903\n",
      "floor                       0\n",
      "is_apartment            20924\n",
      "studio                      0\n",
      "open_plan                   0\n",
      "kitchen_area             2278\n",
      "balcony                 11519\n",
      "locality_name              49\n",
      "airports_nearest         5542\n",
      "cityCenters_nearest      5519\n",
      "parks_around3000         5518\n",
      "parks_nearest           15620\n",
      "ponds_around3000         5518\n",
      "ponds_nearest           14589\n",
      "days_exposition          3181\n",
      "dtype: int64\n",
      "Стат данные\n",
      "--------------------------------------------------\n"
     ]
    },
    {
     "data": {
      "text/html": [
       "<div>\n",
       "<style scoped>\n",
       "    .dataframe tbody tr th:only-of-type {\n",
       "        vertical-align: middle;\n",
       "    }\n",
       "\n",
       "    .dataframe tbody tr th {\n",
       "        vertical-align: top;\n",
       "    }\n",
       "\n",
       "    .dataframe thead th {\n",
       "        text-align: right;\n",
       "    }\n",
       "</style>\n",
       "<table border=\"1\" class=\"dataframe\">\n",
       "  <thead>\n",
       "    <tr style=\"text-align: right;\">\n",
       "      <th></th>\n",
       "      <th>total_images</th>\n",
       "      <th>last_price</th>\n",
       "      <th>total_area</th>\n",
       "      <th>rooms</th>\n",
       "      <th>ceiling_height</th>\n",
       "      <th>floors_total</th>\n",
       "      <th>living_area</th>\n",
       "      <th>floor</th>\n",
       "      <th>kitchen_area</th>\n",
       "      <th>balcony</th>\n",
       "      <th>airports_nearest</th>\n",
       "      <th>cityCenters_nearest</th>\n",
       "      <th>parks_around3000</th>\n",
       "      <th>parks_nearest</th>\n",
       "      <th>ponds_around3000</th>\n",
       "      <th>ponds_nearest</th>\n",
       "      <th>days_exposition</th>\n",
       "    </tr>\n",
       "  </thead>\n",
       "  <tbody>\n",
       "    <tr>\n",
       "      <th>count</th>\n",
       "      <td>23,699.00</td>\n",
       "      <td>23,699.00</td>\n",
       "      <td>23,699.00</td>\n",
       "      <td>23,699.00</td>\n",
       "      <td>14,504.00</td>\n",
       "      <td>23,613.00</td>\n",
       "      <td>21,796.00</td>\n",
       "      <td>23,699.00</td>\n",
       "      <td>21,421.00</td>\n",
       "      <td>12,180.00</td>\n",
       "      <td>18,157.00</td>\n",
       "      <td>18,180.00</td>\n",
       "      <td>18,181.00</td>\n",
       "      <td>8,079.00</td>\n",
       "      <td>18,181.00</td>\n",
       "      <td>9,110.00</td>\n",
       "      <td>20,518.00</td>\n",
       "    </tr>\n",
       "    <tr>\n",
       "      <th>mean</th>\n",
       "      <td>9.86</td>\n",
       "      <td>6,541,548.77</td>\n",
       "      <td>60.35</td>\n",
       "      <td>2.07</td>\n",
       "      <td>2.77</td>\n",
       "      <td>10.67</td>\n",
       "      <td>34.46</td>\n",
       "      <td>5.89</td>\n",
       "      <td>10.57</td>\n",
       "      <td>1.15</td>\n",
       "      <td>28,793.67</td>\n",
       "      <td>14,191.28</td>\n",
       "      <td>0.61</td>\n",
       "      <td>490.80</td>\n",
       "      <td>0.77</td>\n",
       "      <td>517.98</td>\n",
       "      <td>180.89</td>\n",
       "    </tr>\n",
       "    <tr>\n",
       "      <th>std</th>\n",
       "      <td>5.68</td>\n",
       "      <td>10,887,013.27</td>\n",
       "      <td>35.65</td>\n",
       "      <td>1.08</td>\n",
       "      <td>1.26</td>\n",
       "      <td>6.60</td>\n",
       "      <td>22.03</td>\n",
       "      <td>4.89</td>\n",
       "      <td>5.91</td>\n",
       "      <td>1.07</td>\n",
       "      <td>12,630.88</td>\n",
       "      <td>8,608.39</td>\n",
       "      <td>0.80</td>\n",
       "      <td>342.32</td>\n",
       "      <td>0.94</td>\n",
       "      <td>277.72</td>\n",
       "      <td>219.73</td>\n",
       "    </tr>\n",
       "    <tr>\n",
       "      <th>min</th>\n",
       "      <td>0.00</td>\n",
       "      <td>12,190.00</td>\n",
       "      <td>12.00</td>\n",
       "      <td>0.00</td>\n",
       "      <td>1.00</td>\n",
       "      <td>1.00</td>\n",
       "      <td>2.00</td>\n",
       "      <td>1.00</td>\n",
       "      <td>1.30</td>\n",
       "      <td>0.00</td>\n",
       "      <td>0.00</td>\n",
       "      <td>181.00</td>\n",
       "      <td>0.00</td>\n",
       "      <td>1.00</td>\n",
       "      <td>0.00</td>\n",
       "      <td>13.00</td>\n",
       "      <td>1.00</td>\n",
       "    </tr>\n",
       "    <tr>\n",
       "      <th>25%</th>\n",
       "      <td>6.00</td>\n",
       "      <td>3,400,000.00</td>\n",
       "      <td>40.00</td>\n",
       "      <td>1.00</td>\n",
       "      <td>2.52</td>\n",
       "      <td>5.00</td>\n",
       "      <td>18.60</td>\n",
       "      <td>2.00</td>\n",
       "      <td>7.00</td>\n",
       "      <td>0.00</td>\n",
       "      <td>18,585.00</td>\n",
       "      <td>9,238.00</td>\n",
       "      <td>0.00</td>\n",
       "      <td>288.00</td>\n",
       "      <td>0.00</td>\n",
       "      <td>294.00</td>\n",
       "      <td>45.00</td>\n",
       "    </tr>\n",
       "    <tr>\n",
       "      <th>50%</th>\n",
       "      <td>9.00</td>\n",
       "      <td>4,650,000.00</td>\n",
       "      <td>52.00</td>\n",
       "      <td>2.00</td>\n",
       "      <td>2.65</td>\n",
       "      <td>9.00</td>\n",
       "      <td>30.00</td>\n",
       "      <td>4.00</td>\n",
       "      <td>9.10</td>\n",
       "      <td>1.00</td>\n",
       "      <td>26,726.00</td>\n",
       "      <td>13,098.50</td>\n",
       "      <td>0.00</td>\n",
       "      <td>455.00</td>\n",
       "      <td>1.00</td>\n",
       "      <td>502.00</td>\n",
       "      <td>95.00</td>\n",
       "    </tr>\n",
       "    <tr>\n",
       "      <th>75%</th>\n",
       "      <td>14.00</td>\n",
       "      <td>6,800,000.00</td>\n",
       "      <td>69.90</td>\n",
       "      <td>3.00</td>\n",
       "      <td>2.80</td>\n",
       "      <td>16.00</td>\n",
       "      <td>42.30</td>\n",
       "      <td>8.00</td>\n",
       "      <td>12.00</td>\n",
       "      <td>2.00</td>\n",
       "      <td>37,273.00</td>\n",
       "      <td>16,293.00</td>\n",
       "      <td>1.00</td>\n",
       "      <td>612.00</td>\n",
       "      <td>1.00</td>\n",
       "      <td>729.00</td>\n",
       "      <td>232.00</td>\n",
       "    </tr>\n",
       "    <tr>\n",
       "      <th>max</th>\n",
       "      <td>50.00</td>\n",
       "      <td>763,000,000.00</td>\n",
       "      <td>900.00</td>\n",
       "      <td>19.00</td>\n",
       "      <td>100.00</td>\n",
       "      <td>60.00</td>\n",
       "      <td>409.70</td>\n",
       "      <td>33.00</td>\n",
       "      <td>112.00</td>\n",
       "      <td>5.00</td>\n",
       "      <td>84,869.00</td>\n",
       "      <td>65,968.00</td>\n",
       "      <td>3.00</td>\n",
       "      <td>3,190.00</td>\n",
       "      <td>3.00</td>\n",
       "      <td>1,344.00</td>\n",
       "      <td>1,580.00</td>\n",
       "    </tr>\n",
       "  </tbody>\n",
       "</table>\n",
       "</div>"
      ],
      "text/plain": [
       "       total_images     last_price  total_area     rooms  ceiling_height  \\\n",
       "count     23,699.00      23,699.00   23,699.00 23,699.00       14,504.00   \n",
       "mean           9.86   6,541,548.77       60.35      2.07            2.77   \n",
       "std            5.68  10,887,013.27       35.65      1.08            1.26   \n",
       "min            0.00      12,190.00       12.00      0.00            1.00   \n",
       "25%            6.00   3,400,000.00       40.00      1.00            2.52   \n",
       "50%            9.00   4,650,000.00       52.00      2.00            2.65   \n",
       "75%           14.00   6,800,000.00       69.90      3.00            2.80   \n",
       "max           50.00 763,000,000.00      900.00     19.00          100.00   \n",
       "\n",
       "       floors_total  living_area     floor  kitchen_area   balcony  \\\n",
       "count     23,613.00    21,796.00 23,699.00     21,421.00 12,180.00   \n",
       "mean          10.67        34.46      5.89         10.57      1.15   \n",
       "std            6.60        22.03      4.89          5.91      1.07   \n",
       "min            1.00         2.00      1.00          1.30      0.00   \n",
       "25%            5.00        18.60      2.00          7.00      0.00   \n",
       "50%            9.00        30.00      4.00          9.10      1.00   \n",
       "75%           16.00        42.30      8.00         12.00      2.00   \n",
       "max           60.00       409.70     33.00        112.00      5.00   \n",
       "\n",
       "       airports_nearest  cityCenters_nearest  parks_around3000  parks_nearest  \\\n",
       "count         18,157.00            18,180.00         18,181.00       8,079.00   \n",
       "mean          28,793.67            14,191.28              0.61         490.80   \n",
       "std           12,630.88             8,608.39              0.80         342.32   \n",
       "min                0.00               181.00              0.00           1.00   \n",
       "25%           18,585.00             9,238.00              0.00         288.00   \n",
       "50%           26,726.00            13,098.50              0.00         455.00   \n",
       "75%           37,273.00            16,293.00              1.00         612.00   \n",
       "max           84,869.00            65,968.00              3.00       3,190.00   \n",
       "\n",
       "       ponds_around3000  ponds_nearest  days_exposition  \n",
       "count         18,181.00       9,110.00        20,518.00  \n",
       "mean               0.77         517.98           180.89  \n",
       "std                0.94         277.72           219.73  \n",
       "min                0.00          13.00             1.00  \n",
       "25%                0.00         294.00            45.00  \n",
       "50%                1.00         502.00            95.00  \n",
       "75%                1.00         729.00           232.00  \n",
       "max                3.00       1,344.00         1,580.00  "
      ]
     },
     "metadata": {},
     "output_type": "display_data"
    }
   ],
   "source": [
    "df_list = [df]\n",
    "for df in df_list:\n",
    "    print('Первые 5 строк')\n",
    "    print('-'*50)\n",
    "    display(df.head())\n",
    "    print('-'*50)\n",
    "    print('Размер датафрейма: (строк:столбцов) {}'.format(df.shape))\n",
    "    print('-'*50)\n",
    "    print('Типы данных и общая информация')\n",
    "    print(df.info())\n",
    "    print('-'*50)\n",
    "    print('Наличие дубликатов: {}'.format(df.duplicated().sum()))\n",
    "    print('-'*50)\n",
    "    print('Наличие пропусков')\n",
    "    print('-'*50)\n",
    "    print(df.isna().sum())\n",
    "    print('Стат данные')\n",
    "    print('-'*50)\n",
    "    display(df.describe())"
   ]
  },
  {
   "cell_type": "markdown",
   "id": "b34bfd80",
   "metadata": {},
   "source": [
    "Всего у нас 23699 записи. Для целого ряда столбцов есть пропущенные значения и некорректный тип данных. По ряду признаков есть аномальные значения."
   ]
  },
  {
   "cell_type": "markdown",
   "id": "5e60eb50",
   "metadata": {},
   "source": [
    "# Шаг 2. Предобработка данных"
   ]
  },
  {
   "cell_type": "code",
   "execution_count": 4,
   "id": "b39c49d2",
   "metadata": {},
   "outputs": [],
   "source": [
    "df['locality_name'].value_counts() # Начну с ключего столбца, т.к большинство вопросов в исследовании завязано на локации.\n",
    "df.dropna(subset=['locality_name'], inplace=True) # Удаляю записи, где нет локации."
   ]
  },
  {
   "cell_type": "code",
   "execution_count": 5,
   "id": "6a949a8e",
   "metadata": {},
   "outputs": [],
   "source": [
    "df['first_day_exposition'] = pd.to_datetime(df['first_day_exposition'], format='%Y-%m-%dT%H:%M:%S') # Привожу к типу даты."
   ]
  },
  {
   "cell_type": "code",
   "execution_count": 7,
   "id": "dc8a2c9f",
   "metadata": {},
   "outputs": [
    {
     "data": {
      "text/html": [
       "<div>\n",
       "<style scoped>\n",
       "    .dataframe tbody tr th:only-of-type {\n",
       "        vertical-align: middle;\n",
       "    }\n",
       "\n",
       "    .dataframe tbody tr th {\n",
       "        vertical-align: top;\n",
       "    }\n",
       "\n",
       "    .dataframe thead th {\n",
       "        text-align: right;\n",
       "    }\n",
       "</style>\n",
       "<table border=\"1\" class=\"dataframe\">\n",
       "  <thead>\n",
       "    <tr style=\"text-align: right;\">\n",
       "      <th></th>\n",
       "      <th>total_images</th>\n",
       "      <th>last_price</th>\n",
       "      <th>total_area</th>\n",
       "      <th>first_day_exposition</th>\n",
       "      <th>rooms</th>\n",
       "      <th>ceiling_height</th>\n",
       "      <th>floors_total</th>\n",
       "      <th>living_area</th>\n",
       "      <th>floor</th>\n",
       "      <th>is_apartment</th>\n",
       "      <th>studio</th>\n",
       "      <th>open_plan</th>\n",
       "      <th>kitchen_area</th>\n",
       "      <th>balcony</th>\n",
       "      <th>locality_name</th>\n",
       "      <th>airports_nearest</th>\n",
       "      <th>cityCenters_nearest</th>\n",
       "      <th>parks_around3000</th>\n",
       "      <th>parks_nearest</th>\n",
       "      <th>ponds_around3000</th>\n",
       "      <th>ponds_nearest</th>\n",
       "      <th>days_exposition</th>\n",
       "    </tr>\n",
       "  </thead>\n",
       "  <tbody>\n",
       "    <tr>\n",
       "      <th>17857</th>\n",
       "      <td>1</td>\n",
       "      <td>3,900,000.00</td>\n",
       "      <td>56.00</td>\n",
       "      <td>2017-12-22</td>\n",
       "      <td>3</td>\n",
       "      <td>27.00</td>\n",
       "      <td>5.00</td>\n",
       "      <td>33.00</td>\n",
       "      <td>4</td>\n",
       "      <td>False</td>\n",
       "      <td>False</td>\n",
       "      <td>False</td>\n",
       "      <td>NaN</td>\n",
       "      <td>NaN</td>\n",
       "      <td>Санкт-Петербург</td>\n",
       "      <td>41,030.00</td>\n",
       "      <td>15,543.00</td>\n",
       "      <td>0.00</td>\n",
       "      <td>NaN</td>\n",
       "      <td>0.00</td>\n",
       "      <td>NaN</td>\n",
       "      <td>73.00</td>\n",
       "    </tr>\n",
       "    <tr>\n",
       "      <th>21377</th>\n",
       "      <td>19</td>\n",
       "      <td>4,900,000.00</td>\n",
       "      <td>42.00</td>\n",
       "      <td>2017-04-18</td>\n",
       "      <td>1</td>\n",
       "      <td>27.50</td>\n",
       "      <td>24.00</td>\n",
       "      <td>37.70</td>\n",
       "      <td>19</td>\n",
       "      <td>False</td>\n",
       "      <td>False</td>\n",
       "      <td>False</td>\n",
       "      <td>11.00</td>\n",
       "      <td>2.00</td>\n",
       "      <td>Санкт-Петербург</td>\n",
       "      <td>42,742.00</td>\n",
       "      <td>9,760.00</td>\n",
       "      <td>0.00</td>\n",
       "      <td>NaN</td>\n",
       "      <td>0.00</td>\n",
       "      <td>NaN</td>\n",
       "      <td>61.00</td>\n",
       "    </tr>\n",
       "    <tr>\n",
       "      <th>22336</th>\n",
       "      <td>19</td>\n",
       "      <td>9,999,000.00</td>\n",
       "      <td>92.40</td>\n",
       "      <td>2019-04-05</td>\n",
       "      <td>2</td>\n",
       "      <td>32.00</td>\n",
       "      <td>6.00</td>\n",
       "      <td>55.50</td>\n",
       "      <td>5</td>\n",
       "      <td>False</td>\n",
       "      <td>False</td>\n",
       "      <td>False</td>\n",
       "      <td>16.50</td>\n",
       "      <td>4.00</td>\n",
       "      <td>Санкт-Петербург</td>\n",
       "      <td>18,838.00</td>\n",
       "      <td>3,506.00</td>\n",
       "      <td>0.00</td>\n",
       "      <td>NaN</td>\n",
       "      <td>3.00</td>\n",
       "      <td>511.00</td>\n",
       "      <td>NaN</td>\n",
       "    </tr>\n",
       "    <tr>\n",
       "      <th>3148</th>\n",
       "      <td>14</td>\n",
       "      <td>2,900,000.00</td>\n",
       "      <td>75.00</td>\n",
       "      <td>2018-11-12</td>\n",
       "      <td>3</td>\n",
       "      <td>32.00</td>\n",
       "      <td>3.00</td>\n",
       "      <td>53.00</td>\n",
       "      <td>2</td>\n",
       "      <td>NaN</td>\n",
       "      <td>False</td>\n",
       "      <td>False</td>\n",
       "      <td>8.00</td>\n",
       "      <td>NaN</td>\n",
       "      <td>Волхов</td>\n",
       "      <td>NaN</td>\n",
       "      <td>NaN</td>\n",
       "      <td>NaN</td>\n",
       "      <td>NaN</td>\n",
       "      <td>NaN</td>\n",
       "      <td>NaN</td>\n",
       "      <td>NaN</td>\n",
       "    </tr>\n",
       "    <tr>\n",
       "      <th>22869</th>\n",
       "      <td>0</td>\n",
       "      <td>15,000,000.00</td>\n",
       "      <td>25.00</td>\n",
       "      <td>2018-07-25</td>\n",
       "      <td>1</td>\n",
       "      <td>100.00</td>\n",
       "      <td>5.00</td>\n",
       "      <td>14.00</td>\n",
       "      <td>5</td>\n",
       "      <td>True</td>\n",
       "      <td>False</td>\n",
       "      <td>False</td>\n",
       "      <td>11.00</td>\n",
       "      <td>5.00</td>\n",
       "      <td>Санкт-Петербург</td>\n",
       "      <td>34,963.00</td>\n",
       "      <td>8,283.00</td>\n",
       "      <td>1.00</td>\n",
       "      <td>223.00</td>\n",
       "      <td>3.00</td>\n",
       "      <td>30.00</td>\n",
       "      <td>19.00</td>\n",
       "    </tr>\n",
       "  </tbody>\n",
       "</table>\n",
       "</div>"
      ],
      "text/plain": [
       "       total_images    last_price  total_area first_day_exposition  rooms  \\\n",
       "17857             1  3,900,000.00       56.00           2017-12-22      3   \n",
       "21377            19  4,900,000.00       42.00           2017-04-18      1   \n",
       "22336            19  9,999,000.00       92.40           2019-04-05      2   \n",
       "3148             14  2,900,000.00       75.00           2018-11-12      3   \n",
       "22869             0 15,000,000.00       25.00           2018-07-25      1   \n",
       "\n",
       "       ceiling_height  floors_total  living_area  floor is_apartment  studio  \\\n",
       "17857           27.00          5.00        33.00      4        False   False   \n",
       "21377           27.50         24.00        37.70     19        False   False   \n",
       "22336           32.00          6.00        55.50      5        False   False   \n",
       "3148            32.00          3.00        53.00      2          NaN   False   \n",
       "22869          100.00          5.00        14.00      5         True   False   \n",
       "\n",
       "       open_plan  kitchen_area  balcony    locality_name  airports_nearest  \\\n",
       "17857      False           NaN      NaN  Санкт-Петербург         41,030.00   \n",
       "21377      False         11.00     2.00  Санкт-Петербург         42,742.00   \n",
       "22336      False         16.50     4.00  Санкт-Петербург         18,838.00   \n",
       "3148       False          8.00      NaN           Волхов               NaN   \n",
       "22869      False         11.00     5.00  Санкт-Петербург         34,963.00   \n",
       "\n",
       "       cityCenters_nearest  parks_around3000  parks_nearest  ponds_around3000  \\\n",
       "17857            15,543.00              0.00            NaN              0.00   \n",
       "21377             9,760.00              0.00            NaN              0.00   \n",
       "22336             3,506.00              0.00            NaN              3.00   \n",
       "3148                   NaN               NaN            NaN               NaN   \n",
       "22869             8,283.00              1.00         223.00              3.00   \n",
       "\n",
       "       ponds_nearest  days_exposition  \n",
       "17857            NaN            73.00  \n",
       "21377            NaN            61.00  \n",
       "22336         511.00              NaN  \n",
       "3148             NaN              NaN  \n",
       "22869          30.00            19.00  "
      ]
     },
     "execution_count": 7,
     "metadata": {},
     "output_type": "execute_result"
    }
   ],
   "source": [
    "df[df['ceiling_height'] > 4].sort_values('ceiling_height').tail(5) # Есть несколько значений, с явной ошибкой в кратности. Оставим пока без изменений."
   ]
  },
  {
   "cell_type": "code",
   "execution_count": 8,
   "id": "72f9391c",
   "metadata": {},
   "outputs": [],
   "source": [
    "df['floors_total'].fillna(df['floors_total'].median(), inplace=True)  # заменяю пропуски на медиальные значения.\n",
    "# Т.к. пропусков не много, и количество этажей в многоэтажном доме не является ключевым фактором цены."
   ]
  },
  {
   "cell_type": "code",
   "execution_count": 10,
   "id": "e0be7a0b",
   "metadata": {},
   "outputs": [],
   "source": [
    "df['is_apartment'].value_counts()\n",
    "df['is_apartment'] = df['is_apartment'].fillna(False) # Заменаю все пропуски на False, т.к. аппартаменты новое явление и появилось не  так давно."
   ]
  },
  {
   "cell_type": "code",
   "execution_count": 13,
   "id": "c79ae3c3",
   "metadata": {},
   "outputs": [],
   "source": [
    "df['living_area'].value_counts()\n",
    "living_ratio = df['living_area'].mean() / df['total_area'].mean()  # Заменяю пропуски на средние значения.\n",
    "df['living_area'].fillna(living_ratio * df['total_area'], inplace=True) "
   ]
  },
  {
   "cell_type": "code",
   "execution_count": 14,
   "id": "089bab51",
   "metadata": {},
   "outputs": [],
   "source": [
    "df['kitchen_area'].value_counts()\n",
    "kitchen_ratio = df['kitchen_area'].mean() / df['total_area'].mean() # Заменяю пропуски на средние значения.\n",
    "df['kitchen_area'].fillna(kitchen_ratio * df['total_area'], inplace=True)"
   ]
  },
  {
   "cell_type": "code",
   "execution_count": 15,
   "id": "c780bc9a",
   "metadata": {},
   "outputs": [],
   "source": [
    "df['last_price'].value_counts()\n",
    "df['last_price'] = df['last_price'].astype(int)"
   ]
  },
  {
   "cell_type": "markdown",
   "id": "fde73f5b",
   "metadata": {},
   "source": [
    "Перевожу в целые числа, пропуски заменяю на 0."
   ]
  },
  {
   "cell_type": "code",
   "execution_count": 16,
   "id": "a784f99d",
   "metadata": {},
   "outputs": [],
   "source": [
    "df['balcony'].value_counts()\n",
    "df['balcony'] = df['balcony'].fillna(0)     \n",
    "df['balcony'] = df['balcony'].astype(int)"
   ]
  },
  {
   "cell_type": "code",
   "execution_count": 17,
   "id": "3e10d7d2",
   "metadata": {},
   "outputs": [],
   "source": [
    "df['parks_around3000'].value_counts()\n",
    "df['parks_around3000'] = df['parks_around3000'].fillna(value=0).astype(int)"
   ]
  },
  {
   "cell_type": "code",
   "execution_count": 18,
   "id": "774fcc8a",
   "metadata": {},
   "outputs": [],
   "source": [
    "df['ponds_around3000'].value_counts()\n",
    "df['ponds_around3000'] = df['ponds_around3000'].fillna(value=0).astype(int)"
   ]
  },
  {
   "cell_type": "code",
   "execution_count": 19,
   "id": "65aa5e9a",
   "metadata": {},
   "outputs": [],
   "source": [
    "df['days_exposition'].value_counts()\n",
    "df['days_exposition'] = df['days_exposition'].fillna(0).astype(int)"
   ]
  },
  {
   "cell_type": "code",
   "execution_count": 20,
   "id": "d553943f",
   "metadata": {},
   "outputs": [
    {
     "data": {
      "text/plain": [
       "23.39957716701903"
      ]
     },
     "execution_count": 20,
     "metadata": {},
     "output_type": "execute_result"
    }
   ],
   "source": [
    "df['airports_nearest'].value_counts()     \n",
    "df['airports_nearest'].isna().mean()*100"
   ]
  },
  {
   "cell_type": "code",
   "execution_count": 21,
   "id": "f40b4415",
   "metadata": {},
   "outputs": [
    {
     "data": {
      "text/plain": [
       "23.39957716701903"
      ]
     },
     "execution_count": 21,
     "metadata": {},
     "output_type": "execute_result"
    }
   ],
   "source": [
    "df['cityCenters_nearest'].value_counts()  \n",
    "df['airports_nearest'].isna().mean()*100"
   ]
  },
  {
   "cell_type": "code",
   "execution_count": 22,
   "id": "f4968b74",
   "metadata": {},
   "outputs": [
    {
     "data": {
      "text/plain": [
       "65.90274841437632"
      ]
     },
     "execution_count": 22,
     "metadata": {},
     "output_type": "execute_result"
    }
   ],
   "source": [
    "df['parks_nearest'].value_counts() \n",
    "df['parks_nearest'].isna().mean()*100"
   ]
  },
  {
   "cell_type": "code",
   "execution_count": 23,
   "id": "be6a1a65",
   "metadata": {},
   "outputs": [
    {
     "data": {
      "text/plain": [
       "61.58562367864694"
      ]
     },
     "execution_count": 23,
     "metadata": {},
     "output_type": "execute_result"
    }
   ],
   "source": [
    "df['ponds_nearest'].value_counts()\n",
    "df['ponds_nearest'].isna().mean()*100"
   ]
  },
  {
   "cell_type": "markdown",
   "id": "9fed4e3c",
   "metadata": {},
   "source": [
    "Оставляю пропуски, как есть. Их доля существенна, и замена на что-то, может быть неккоректна."
   ]
  },
  {
   "cell_type": "markdown",
   "id": "9e0c34df",
   "metadata": {},
   "source": [
    "# Шаг 3. Расчёты и добавление результатов в таблицу"
   ]
  },
  {
   "cell_type": "code",
   "execution_count": 24,
   "id": "6ea3a37e",
   "metadata": {},
   "outputs": [],
   "source": [
    "# Добавляю столбец со стоимостью квадратного метра (sm_price) и привожу его в целочисленный тип:\n",
    "df['sm_price'] = df['last_price'] / df['total_area']\n",
    "df['sm_price'] = df['sm_price'].astype(int)"
   ]
  },
  {
   "cell_type": "code",
   "execution_count": 25,
   "id": "6f9c097a",
   "metadata": {},
   "outputs": [],
   "source": [
    "# Создаю столбец дня недели:\n",
    "df['weekday_exposition'] = df['first_day_exposition'].dt.weekday"
   ]
  },
  {
   "cell_type": "code",
   "execution_count": 26,
   "id": "715eae74",
   "metadata": {},
   "outputs": [],
   "source": [
    "# Создаю столбец месяца:\n",
    "df['month_exposition'] = df['first_day_exposition'].dt.month"
   ]
  },
  {
   "cell_type": "code",
   "execution_count": 27,
   "id": "301b81b9",
   "metadata": {},
   "outputs": [],
   "source": [
    "# Создаю столбец года:\n",
    "df['year_exposition'] = df['first_day_exposition'].dt.year"
   ]
  },
  {
   "cell_type": "code",
   "execution_count": 28,
   "id": "d161d227",
   "metadata": {},
   "outputs": [],
   "source": [
    "# Cоздаю функцию для заполнения нового столбца с этажом:\n",
    "def floor_group(row):\n",
    "    if row['floor'] == 1:\n",
    "        return 'первый'\n",
    "    elif row['floor'] == row['floors_total']:\n",
    "        return 'последний'\n",
    "    else:\n",
    "        return 'другой'\n",
    "df['floor_type'] = df.apply(floor_group, axis=1)"
   ]
  },
  {
   "cell_type": "code",
   "execution_count": 29,
   "id": "ad7cdfc8",
   "metadata": {},
   "outputs": [],
   "source": [
    "# Добавляю столбец с отношением жилой площади к общей (area_ratio), перевожу в % и привожу его в целочисленный тип:\n",
    "df['area_ratio'] = df['living_area'] / df['total_area'] * 100\n",
    "df['area_ratio'] = df['area_ratio'].fillna(value=0).astype(int)"
   ]
  },
  {
   "cell_type": "code",
   "execution_count": 30,
   "id": "be756637",
   "metadata": {},
   "outputs": [],
   "source": [
    "# Добавляю столбец с отношением площади кухни к общей (kitchen_ratio), перевожу в % и привожу его в целочисленный тип:\n",
    "df['kitchen_ratio'] = df['kitchen_area'] / df['total_area'] * 100\n",
    "df['kitchen_ratio'] = df['kitchen_ratio'].fillna(value=0).astype(int)"
   ]
  },
  {
   "cell_type": "markdown",
   "id": "233afb7a",
   "metadata": {},
   "source": [
    "# Шаг 4. Исследовательский анализ данных"
   ]
  },
  {
   "cell_type": "markdown",
   "id": "1021d1c0",
   "metadata": {},
   "source": [
    "## 4.1 Изучим следующие параметры: площадь, цена, число комнат, высота потолков. Построим гистограммы для каждого параметра."
   ]
  },
  {
   "cell_type": "code",
   "execution_count": 31,
   "id": "365cfb5f",
   "metadata": {},
   "outputs": [
    {
     "data": {
      "image/png": "[encoded data removed]",
      "text/plain": [
       "<Figure size 432x288 with 1 Axes>"
      ]
     },
     "metadata": {},
     "output_type": "display_data"
    },
    {
     "name": "stdout",
     "output_type": "stream",
     "text": [
      "Наибольшие по площади варианты:\n",
      "19540   900.00\n",
      "12859   631.20\n",
      "3117    631.00\n",
      "15651   618.00\n",
      "5358    590.00\n",
      "Name: total_area, dtype: float64\n"
     ]
    },
    {
     "data": {
      "text/plain": [
       "count   23,650.00\n",
       "mean        60.33\n",
       "std         35.66\n",
       "min         12.00\n",
       "25%         40.00\n",
       "50%         52.00\n",
       "75%         69.70\n",
       "max        900.00\n",
       "Name: total_area, dtype: float64"
      ]
     },
     "execution_count": 31,
     "metadata": {},
     "output_type": "execute_result"
    }
   ],
   "source": [
    "# Изучаю площадь:\n",
    "plt.hist(df['total_area'], bins=30, range=(10,200))\n",
    "plt.title('Площадь квартир')\n",
    "plt.xlabel('Квадратные метры')\n",
    "plt.ylabel('Количество квартир')\n",
    "plt.show()\n",
    "print('Наибольшие по площади варианты:')\n",
    "print(df['total_area'].sort_values(ascending=False).head(5))\n",
    "df['total_area'].describe()"
   ]
  },
  {
   "cell_type": "markdown",
   "id": "effa76e2",
   "metadata": {},
   "source": [
    "средняя площадь 60 м2,что соответсвует среней площади 2-х комнатной квартире в РФ."
   ]
  },
  {
   "cell_type": "code",
   "execution_count": 32,
   "id": "6606d4a7",
   "metadata": {},
   "outputs": [
    {
     "data": {
      "image/png": "[encoded data removed]",
      "text/plain": [
       "<Figure size 432x288 with 1 Axes>"
      ]
     },
     "metadata": {},
     "output_type": "display_data"
    },
    {
     "name": "stdout",
     "output_type": "stream",
     "text": [
      "Наибольшие по цене варианты:\n",
      "12971    763000000\n",
      "19540    420000000\n",
      "14706    401300000\n",
      "1436     330000000\n",
      "15651    300000000\n",
      "Name: last_price, dtype: int32\n"
     ]
    },
    {
     "data": {
      "text/plain": [
       "count        23,650.00\n",
       "mean      6,541,126.90\n",
       "std      10,896,399.18\n",
       "min          12,190.00\n",
       "25%       3,400,000.00\n",
       "50%       4,650,000.00\n",
       "75%       6,799,000.00\n",
       "max     763,000,000.00\n",
       "Name: last_price, dtype: float64"
      ]
     },
     "execution_count": 32,
     "metadata": {},
     "output_type": "execute_result"
    }
   ],
   "source": [
    "# Изучаю стоимость:\n",
    "plt.hist(df['last_price'], bins=30, range=(0,20000000))\n",
    "plt.title('Стоимость квартир')\n",
    "plt.xlabel('Стоимость')\n",
    "plt.ylabel('Количество квартир')\n",
    "plt.show()\n",
    "print('Наибольшие по цене варианты:')\n",
    "print(df['last_price'].sort_values(ascending=False).head(5))\n",
    "df['last_price'].describe()"
   ]
  },
  {
   "cell_type": "markdown",
   "id": "84d37a22",
   "metadata": {},
   "source": [
    "В Питере и его пригороде есть как бюджетное жилье ( около 3 млн. рублей), \n",
    "так и достаточное количество дорогово ( более 10 млн. рублей)."
   ]
  },
  {
   "cell_type": "code",
   "execution_count": 33,
   "id": "15809bf9",
   "metadata": {},
   "outputs": [
    {
     "data": {
      "image/png": "[encoded data removed]",
      "text/plain": [
       "<Figure size 432x288 with 1 Axes>"
      ]
     },
     "metadata": {},
     "output_type": "display_data"
    },
    {
     "name": "stdout",
     "output_type": "stream",
     "text": [
      "Наибольшие по числу комнат варианты:\n",
      "14498    19\n",
      "18848    16\n",
      "5358     15\n",
      "866      14\n",
      "20829    14\n",
      "Name: rooms, dtype: int64\n"
     ]
    },
    {
     "data": {
      "text/plain": [
       "count   23,650.00\n",
       "mean         2.07\n",
       "std          1.08\n",
       "min          0.00\n",
       "25%          1.00\n",
       "50%          2.00\n",
       "75%          3.00\n",
       "max         19.00\n",
       "Name: rooms, dtype: float64"
      ]
     },
     "execution_count": 33,
     "metadata": {},
     "output_type": "execute_result"
    }
   ],
   "source": [
    "# Изучаю число комнат:\n",
    "plt.hist(df['rooms'], bins=7, range=(1,7))\n",
    "plt.title('Комнаты')\n",
    "plt.xlabel('Количество комнат')\n",
    "plt.ylabel('Количество квартир')\n",
    "plt.show()\n",
    "print('Наибольшие по числу комнат варианты:')\n",
    "print(df['rooms'].sort_values(ascending=False).head(5))\n",
    "df['rooms'].describe()"
   ]
  },
  {
   "cell_type": "markdown",
   "id": "72fd6cce",
   "metadata": {},
   "source": [
    "В основном на рынке Санкт-петербурга представлены 1-2-3 комнатные квартиры."
   ]
  },
  {
   "cell_type": "code",
   "execution_count": 34,
   "id": "2e2a3884",
   "metadata": {},
   "outputs": [
    {
     "data": {
      "image/png": "[encoded data removed]",
      "text/plain": [
       "<Figure size 432x288 with 1 Axes>"
      ]
     },
     "metadata": {},
     "output_type": "display_data"
    },
    {
     "name": "stdout",
     "output_type": "stream",
     "text": [
      "Наибольшие по высоте потолков варианты:\n",
      "22869   100.00\n",
      "3148     32.00\n",
      "22336    32.00\n",
      "21377    27.50\n",
      "17857    27.00\n",
      "Name: ceiling_height, dtype: float64\n"
     ]
    },
    {
     "data": {
      "text/plain": [
       "count   14,490.00\n",
       "mean         2.77\n",
       "std          1.26\n",
       "min          1.00\n",
       "25%          2.52\n",
       "50%          2.65\n",
       "75%          2.80\n",
       "max        100.00\n",
       "Name: ceiling_height, dtype: float64"
      ]
     },
     "execution_count": 34,
     "metadata": {},
     "output_type": "execute_result"
    }
   ],
   "source": [
    "# Изучаю высоту потолков:\n",
    "plt.hist(df.query('(ceiling_height > 2) & (ceiling_height < 4)')['ceiling_height'], bins=20)\n",
    "plt.title('Высота потолков')\n",
    "plt.xlabel('Метры')\n",
    "plt.ylabel('Количество квартир')\n",
    "plt.show()\n",
    "print('Наибольшие по высоте потолков варианты:')\n",
    "print(df['ceiling_height'].sort_values(ascending=False).head(5))\n",
    "df['ceiling_height'].describe()"
   ]
  },
  {
   "cell_type": "markdown",
   "id": "20f25667",
   "metadata": {},
   "source": [
    "Медиальное значение высоты потолков - 2,65м. Среднее - 2.77 м."
   ]
  },
  {
   "cell_type": "markdown",
   "id": "20024c45",
   "metadata": {},
   "source": [
    "## 4.2 Изучим время продажи квартиры. Построим гистограмму. Посчитаем среднее и медиану. Опишем, сколько обычно занимает продажа."
   ]
  },
  {
   "cell_type": "markdown",
   "id": "3f04b167",
   "metadata": {},
   "source": [
    "Когда можно считать, что продажи прошли очень быстро, а когда необычно долго?"
   ]
  },
  {
   "cell_type": "code",
   "execution_count": 35,
   "id": "57fe2169",
   "metadata": {},
   "outputs": [
    {
     "name": "stdout",
     "output_type": "stream",
     "text": [
      "Время продажи (медиана): 95 \n",
      "\n",
      "Время продажи (среднее): 181 \n",
      "\n"
     ]
    },
    {
     "data": {
      "image/png": "[encoded data removed]",
      "text/plain": [
       "<Figure size 432x288 with 1 Axes>"
      ]
     },
     "metadata": {},
     "output_type": "display_data"
    },
    {
     "data": {
      "text/plain": [
       "count   20,470.00\n",
       "mean       180.75\n",
       "std        219.78\n",
       "min          1.00\n",
       "25%         45.00\n",
       "50%         95.00\n",
       "75%        231.00\n",
       "max      1,580.00\n",
       "Name: days_exposition, dtype: float64"
      ]
     },
     "execution_count": 35,
     "metadata": {},
     "output_type": "execute_result"
    }
   ],
   "source": [
    "# исключаю маркеры пустых значений:\n",
    "print('Время продажи (медиана):', round(df.query('days_exposition != 0')['days_exposition'].median()),'\\n')\n",
    "print('Время продажи (среднее):', round(df.query('days_exposition != 0')['days_exposition'].mean()),'\\n')\n",
    "\n",
    "# Гистограма времени продажи:\n",
    "plt.hist(df.query('days_exposition != 9999')['days_exposition'], bins=100, range=(0,250))\n",
    "plt.title('Время продажи')\n",
    "plt.xlabel('Дни')\n",
    "plt.ylabel('Количество квартир')\n",
    "plt.show()\n",
    "\n",
    "# Изучаю значения срока продажи:\n",
    "df.query('days_exposition != 0')['days_exposition'].describe()"
   ]
  },
  {
   "cell_type": "markdown",
   "id": "253501ab",
   "metadata": {},
   "source": [
    "    Среднее время продажи - 180 дней. Медиальное время продажи - 95 дней. \n",
    "    Обычно квартира продаётся около 100 дней. \n",
    "    Быстрой продажей можно считать продажу за 45 дней и быстрее. \n",
    "    Необычно долгими продажи можно считать результат более 7 месяцев."
   ]
  },
  {
   "cell_type": "markdown",
   "id": "97365563",
   "metadata": {},
   "source": [
    "## 4.3 Уберём редкие и выбивающиеся значения. Опишем, какие особенности обнаружили."
   ]
  },
  {
   "cell_type": "code",
   "execution_count": 36,
   "id": "3494b34c",
   "metadata": {},
   "outputs": [
    {
     "data": {
      "text/html": [
       "<div>\n",
       "<style scoped>\n",
       "    .dataframe tbody tr th:only-of-type {\n",
       "        vertical-align: middle;\n",
       "    }\n",
       "\n",
       "    .dataframe tbody tr th {\n",
       "        vertical-align: top;\n",
       "    }\n",
       "\n",
       "    .dataframe thead th {\n",
       "        text-align: right;\n",
       "    }\n",
       "</style>\n",
       "<table border=\"1\" class=\"dataframe\">\n",
       "  <thead>\n",
       "    <tr style=\"text-align: right;\">\n",
       "      <th></th>\n",
       "      <th>total_images</th>\n",
       "      <th>last_price</th>\n",
       "      <th>total_area</th>\n",
       "      <th>rooms</th>\n",
       "      <th>ceiling_height</th>\n",
       "      <th>floors_total</th>\n",
       "      <th>living_area</th>\n",
       "      <th>floor</th>\n",
       "      <th>kitchen_area</th>\n",
       "      <th>balcony</th>\n",
       "      <th>airports_nearest</th>\n",
       "      <th>cityCenters_nearest</th>\n",
       "      <th>parks_around3000</th>\n",
       "      <th>parks_nearest</th>\n",
       "      <th>ponds_around3000</th>\n",
       "      <th>ponds_nearest</th>\n",
       "      <th>days_exposition</th>\n",
       "      <th>sm_price</th>\n",
       "      <th>weekday_exposition</th>\n",
       "      <th>month_exposition</th>\n",
       "      <th>year_exposition</th>\n",
       "      <th>area_ratio</th>\n",
       "      <th>kitchen_ratio</th>\n",
       "    </tr>\n",
       "  </thead>\n",
       "  <tbody>\n",
       "    <tr>\n",
       "      <th>count</th>\n",
       "      <td>23,650.00</td>\n",
       "      <td>21,595.00</td>\n",
       "      <td>22,406.00</td>\n",
       "      <td>23,650.00</td>\n",
       "      <td>13,664.00</td>\n",
       "      <td>23,650.00</td>\n",
       "      <td>22,764.00</td>\n",
       "      <td>23,650.00</td>\n",
       "      <td>22,329.00</td>\n",
       "      <td>23,650.00</td>\n",
       "      <td>18,116.00</td>\n",
       "      <td>18,139.00</td>\n",
       "      <td>23,650.00</td>\n",
       "      <td>8,064.00</td>\n",
       "      <td>23,650.00</td>\n",
       "      <td>9,085.00</td>\n",
       "      <td>21,617.00</td>\n",
       "      <td>23,650.00</td>\n",
       "      <td>23,650.00</td>\n",
       "      <td>23,650.00</td>\n",
       "      <td>23,650.00</td>\n",
       "      <td>23,650.00</td>\n",
       "      <td>23,650.00</td>\n",
       "    </tr>\n",
       "    <tr>\n",
       "      <th>mean</th>\n",
       "      <td>9.86</td>\n",
       "      <td>4,838,942.09</td>\n",
       "      <td>54.33</td>\n",
       "      <td>2.01</td>\n",
       "      <td>2.68</td>\n",
       "      <td>10.67</td>\n",
       "      <td>31.52</td>\n",
       "      <td>5.89</td>\n",
       "      <td>9.42</td>\n",
       "      <td>0.59</td>\n",
       "      <td>28,803.23</td>\n",
       "      <td>14,197.86</td>\n",
       "      <td>0.47</td>\n",
       "      <td>490.83</td>\n",
       "      <td>0.59</td>\n",
       "      <td>518.06</td>\n",
       "      <td>103.59</td>\n",
       "      <td>99,431.80</td>\n",
       "      <td>2.57</td>\n",
       "      <td>6.40</td>\n",
       "      <td>2,017.37</td>\n",
       "      <td>56.08</td>\n",
       "      <td>18.14</td>\n",
       "    </tr>\n",
       "    <tr>\n",
       "      <th>std</th>\n",
       "      <td>5.68</td>\n",
       "      <td>2,217,282.22</td>\n",
       "      <td>19.35</td>\n",
       "      <td>0.99</td>\n",
       "      <td>0.18</td>\n",
       "      <td>6.58</td>\n",
       "      <td>13.76</td>\n",
       "      <td>4.88</td>\n",
       "      <td>3.18</td>\n",
       "      <td>0.96</td>\n",
       "      <td>12,637.31</td>\n",
       "      <td>8,606.83</td>\n",
       "      <td>0.75</td>\n",
       "      <td>342.55</td>\n",
       "      <td>0.88</td>\n",
       "      <td>277.84</td>\n",
       "      <td>111.62</td>\n",
       "      <td>50,337.94</td>\n",
       "      <td>1.79</td>\n",
       "      <td>3.49</td>\n",
       "      <td>1.04</td>\n",
       "      <td>10.11</td>\n",
       "      <td>6.96</td>\n",
       "    </tr>\n",
       "    <tr>\n",
       "      <th>min</th>\n",
       "      <td>0.00</td>\n",
       "      <td>12,190.00</td>\n",
       "      <td>12.00</td>\n",
       "      <td>0.00</td>\n",
       "      <td>2.20</td>\n",
       "      <td>1.00</td>\n",
       "      <td>2.00</td>\n",
       "      <td>1.00</td>\n",
       "      <td>1.30</td>\n",
       "      <td>0.00</td>\n",
       "      <td>0.00</td>\n",
       "      <td>181.00</td>\n",
       "      <td>0.00</td>\n",
       "      <td>1.00</td>\n",
       "      <td>0.00</td>\n",
       "      <td>13.00</td>\n",
       "      <td>0.00</td>\n",
       "      <td>111.00</td>\n",
       "      <td>0.00</td>\n",
       "      <td>1.00</td>\n",
       "      <td>2,014.00</td>\n",
       "      <td>2.00</td>\n",
       "      <td>2.00</td>\n",
       "    </tr>\n",
       "    <tr>\n",
       "      <th>25%</th>\n",
       "      <td>6.00</td>\n",
       "      <td>3,300,000.00</td>\n",
       "      <td>39.40</td>\n",
       "      <td>1.00</td>\n",
       "      <td>2.50</td>\n",
       "      <td>5.00</td>\n",
       "      <td>18.70</td>\n",
       "      <td>2.00</td>\n",
       "      <td>7.00</td>\n",
       "      <td>0.00</td>\n",
       "      <td>18,575.75</td>\n",
       "      <td>9,241.00</td>\n",
       "      <td>0.00</td>\n",
       "      <td>288.00</td>\n",
       "      <td>0.00</td>\n",
       "      <td>293.00</td>\n",
       "      <td>18.00</td>\n",
       "      <td>76,614.25</td>\n",
       "      <td>1.00</td>\n",
       "      <td>3.00</td>\n",
       "      <td>2,017.00</td>\n",
       "      <td>50.00</td>\n",
       "      <td>13.00</td>\n",
       "    </tr>\n",
       "    <tr>\n",
       "      <th>50%</th>\n",
       "      <td>9.00</td>\n",
       "      <td>4,400,000.00</td>\n",
       "      <td>50.10</td>\n",
       "      <td>2.00</td>\n",
       "      <td>2.64</td>\n",
       "      <td>9.00</td>\n",
       "      <td>30.00</td>\n",
       "      <td>4.00</td>\n",
       "      <td>9.00</td>\n",
       "      <td>0.00</td>\n",
       "      <td>26,756.50</td>\n",
       "      <td>13,105.00</td>\n",
       "      <td>0.00</td>\n",
       "      <td>454.50</td>\n",
       "      <td>0.00</td>\n",
       "      <td>502.00</td>\n",
       "      <td>61.00</td>\n",
       "      <td>95,000.00</td>\n",
       "      <td>3.00</td>\n",
       "      <td>6.00</td>\n",
       "      <td>2,017.00</td>\n",
       "      <td>57.00</td>\n",
       "      <td>17.00</td>\n",
       "    </tr>\n",
       "    <tr>\n",
       "      <th>75%</th>\n",
       "      <td>14.00</td>\n",
       "      <td>6,000,000.00</td>\n",
       "      <td>65.50</td>\n",
       "      <td>3.00</td>\n",
       "      <td>2.76</td>\n",
       "      <td>16.00</td>\n",
       "      <td>40.59</td>\n",
       "      <td>8.00</td>\n",
       "      <td>11.00</td>\n",
       "      <td>1.00</td>\n",
       "      <td>37,294.00</td>\n",
       "      <td>16,293.00</td>\n",
       "      <td>1.00</td>\n",
       "      <td>612.00</td>\n",
       "      <td>1.00</td>\n",
       "      <td>730.00</td>\n",
       "      <td>153.00</td>\n",
       "      <td>114,274.00</td>\n",
       "      <td>4.00</td>\n",
       "      <td>10.00</td>\n",
       "      <td>2,018.00</td>\n",
       "      <td>63.00</td>\n",
       "      <td>22.00</td>\n",
       "    </tr>\n",
       "    <tr>\n",
       "      <th>max</th>\n",
       "      <td>50.00</td>\n",
       "      <td>11,894,400.00</td>\n",
       "      <td>114.20</td>\n",
       "      <td>5.00</td>\n",
       "      <td>3.21</td>\n",
       "      <td>60.00</td>\n",
       "      <td>76.70</td>\n",
       "      <td>33.00</td>\n",
       "      <td>19.45</td>\n",
       "      <td>5.00</td>\n",
       "      <td>84,869.00</td>\n",
       "      <td>65,968.00</td>\n",
       "      <td>3.00</td>\n",
       "      <td>3,190.00</td>\n",
       "      <td>3.00</td>\n",
       "      <td>1,344.00</td>\n",
       "      <td>461.00</td>\n",
       "      <td>1,907,500.00</td>\n",
       "      <td>6.00</td>\n",
       "      <td>12.00</td>\n",
       "      <td>2,019.00</td>\n",
       "      <td>100.00</td>\n",
       "      <td>78.00</td>\n",
       "    </tr>\n",
       "  </tbody>\n",
       "</table>\n",
       "</div>"
      ],
      "text/plain": [
       "       total_images    last_price  total_area     rooms  ceiling_height  \\\n",
       "count     23,650.00     21,595.00   22,406.00 23,650.00       13,664.00   \n",
       "mean           9.86  4,838,942.09       54.33      2.01            2.68   \n",
       "std            5.68  2,217,282.22       19.35      0.99            0.18   \n",
       "min            0.00     12,190.00       12.00      0.00            2.20   \n",
       "25%            6.00  3,300,000.00       39.40      1.00            2.50   \n",
       "50%            9.00  4,400,000.00       50.10      2.00            2.64   \n",
       "75%           14.00  6,000,000.00       65.50      3.00            2.76   \n",
       "max           50.00 11,894,400.00      114.20      5.00            3.21   \n",
       "\n",
       "       floors_total  living_area     floor  kitchen_area   balcony  \\\n",
       "count     23,650.00    22,764.00 23,650.00     22,329.00 23,650.00   \n",
       "mean          10.67        31.52      5.89          9.42      0.59   \n",
       "std            6.58        13.76      4.88          3.18      0.96   \n",
       "min            1.00         2.00      1.00          1.30      0.00   \n",
       "25%            5.00        18.70      2.00          7.00      0.00   \n",
       "50%            9.00        30.00      4.00          9.00      0.00   \n",
       "75%           16.00        40.59      8.00         11.00      1.00   \n",
       "max           60.00        76.70     33.00         19.45      5.00   \n",
       "\n",
       "       airports_nearest  cityCenters_nearest  parks_around3000  parks_nearest  \\\n",
       "count         18,116.00            18,139.00         23,650.00       8,064.00   \n",
       "mean          28,803.23            14,197.86              0.47         490.83   \n",
       "std           12,637.31             8,606.83              0.75         342.55   \n",
       "min                0.00               181.00              0.00           1.00   \n",
       "25%           18,575.75             9,241.00              0.00         288.00   \n",
       "50%           26,756.50            13,105.00              0.00         454.50   \n",
       "75%           37,294.00            16,293.00              1.00         612.00   \n",
       "max           84,869.00            65,968.00              3.00       3,190.00   \n",
       "\n",
       "       ponds_around3000  ponds_nearest  days_exposition     sm_price  \\\n",
       "count         23,650.00       9,085.00        21,617.00    23,650.00   \n",
       "mean               0.59         518.06           103.59    99,431.80   \n",
       "std                0.88         277.84           111.62    50,337.94   \n",
       "min                0.00          13.00             0.00       111.00   \n",
       "25%                0.00         293.00            18.00    76,614.25   \n",
       "50%                0.00         502.00            61.00    95,000.00   \n",
       "75%                1.00         730.00           153.00   114,274.00   \n",
       "max                3.00       1,344.00           461.00 1,907,500.00   \n",
       "\n",
       "       weekday_exposition  month_exposition  year_exposition  area_ratio  \\\n",
       "count           23,650.00         23,650.00        23,650.00   23,650.00   \n",
       "mean                 2.57              6.40         2,017.37       56.08   \n",
       "std                  1.79              3.49             1.04       10.11   \n",
       "min                  0.00              1.00         2,014.00        2.00   \n",
       "25%                  1.00              3.00         2,017.00       50.00   \n",
       "50%                  3.00              6.00         2,017.00       57.00   \n",
       "75%                  4.00             10.00         2,018.00       63.00   \n",
       "max                  6.00             12.00         2,019.00      100.00   \n",
       "\n",
       "       kitchen_ratio  \n",
       "count      23,650.00  \n",
       "mean           18.14  \n",
       "std             6.96  \n",
       "min             2.00  \n",
       "25%            13.00  \n",
       "50%            17.00  \n",
       "75%            22.00  \n",
       "max            78.00  "
      ]
     },
     "execution_count": 36,
     "metadata": {},
     "output_type": "execute_result"
    }
   ],
   "source": [
    "# Функция для подсчёта границ с учетом 1.5 размаха:\n",
    "def quartile_range(df, column):\n",
    "    q1 = df[column].quantile(0.25)\n",
    "    q3 = df[column].quantile(0.75)\n",
    "    iqr = q3 - q1\n",
    "    dfq = df.loc[(df[column] < q3 + 1.5*iqr) & (df[column] > q1 - 1.5*iqr), column]\n",
    "    return dfq\n",
    "\n",
    "# Столбцы с выбросами:\n",
    "list_features = ['last_price', 'total_area', 'kitchen_area', 'living_area', 'days_exposition', 'ceiling_height', 'rooms']\n",
    "for col in list_features:\n",
    "    df[col] = quartile_range(df, col)\n",
    "\n",
    "# Возвращаем в целочисленный тип число комнат:\n",
    "df['rooms'] = df['rooms'].fillna(0).astype(int)\n",
    "\n",
    "# Изучаем, есть ли выбивающиеся значения:\n",
    "df.describe()"
   ]
  },
  {
   "cell_type": "markdown",
   "id": "ae1bddf4",
   "metadata": {},
   "source": [
    "Ожидаемо, ощищенные данные стали немного более точными и предсказуемыми."
   ]
  },
  {
   "cell_type": "markdown",
   "id": "b7db2a57",
   "metadata": {},
   "source": [
    "## 4.4 Какие факторы больше всего влияют на стоимость квартиры? Изучим, зависит ли цена от площади, числа комнат, удалённости от центра. Изучим зависимость цены от того, на каком этаже расположена квартира: первом, последнем или другом. Также изучим зависимость от даты размещения: дня недели, месяца и года."
   ]
  },
  {
   "cell_type": "code",
   "execution_count": 37,
   "id": "8194af03",
   "metadata": {},
   "outputs": [
    {
     "data": {
      "image/png": "[encoded data removed]",
      "text/plain": [
       "<Figure size 360x360 with 1 Axes>"
      ]
     },
     "metadata": {},
     "output_type": "display_data"
    },
    {
     "name": "stdout",
     "output_type": "stream",
     "text": [
      "Корреляция цены и площади: \n",
      "\n",
      "            last_price  total_area\n",
      "last_price        1.00        0.91\n",
      "total_area        0.91        1.00 \n",
      "\n"
     ]
    }
   ],
   "source": [
    "# Зависимость цены от площади:\n",
    "(\n",
    "    df.pivot_table(index='total_area', values='last_price')\n",
    "    .plot(grid=True, style='o', figsize=(5, 5))\n",
    ")\n",
    "plt.show()\n",
    "print('Корреляция цены и площади:','\\n')\n",
    "print(df.pivot_table(index='floor', values=['total_area', 'last_price']).corr(),'\\n')"
   ]
  },
  {
   "cell_type": "markdown",
   "id": "241b0665",
   "metadata": {},
   "source": [
    "Цена напрямую зависит от площади. Чем больше площадь, тем выше цена."
   ]
  },
  {
   "cell_type": "code",
   "execution_count": 38,
   "id": "a1b8d757",
   "metadata": {},
   "outputs": [
    {
     "data": {
      "image/png": "[encoded data removed]",
      "text/plain": [
       "<Figure size 360x360 with 1 Axes>"
      ]
     },
     "metadata": {},
     "output_type": "display_data"
    },
    {
     "name": "stdout",
     "output_type": "stream",
     "text": [
      "Корреляция цены и числа комнат: \n",
      "\n",
      "            last_price  rooms\n",
      "last_price        1.00   0.54\n",
      "rooms             0.54   1.00 \n",
      "\n"
     ]
    }
   ],
   "source": [
    "# Зависимость цены от числа комнат:\n",
    "(\n",
    "    df.query('rooms > 0').pivot_table(index='rooms', values='last_price')\n",
    "    .plot(grid=True, style='o-', figsize=(5, 5))\n",
    ")\n",
    "plt.show()\n",
    "print('Корреляция цены и числа комнат:','\\n')\n",
    "print(df.query('rooms > 0').pivot_table(index='floor', values=['rooms', 'last_price']).corr(),'\\n')"
   ]
  },
  {
   "cell_type": "markdown",
   "id": "bde03012",
   "metadata": {},
   "source": [
    "Зависимость чем больше комнат, тем выше цена в целом сохраняется. Но в отличие от площади с меньшей корреляцией. Так как\n",
    "количество однокомнатных квартир(студий) большой площащи на рынке растёт."
   ]
  },
  {
   "cell_type": "code",
   "execution_count": 39,
   "id": "e1d8a692",
   "metadata": {},
   "outputs": [
    {
     "data": {
      "image/png": "[encoded data removed]",
      "text/plain": [
       "<Figure size 360x360 with 1 Axes>"
      ]
     },
     "metadata": {},
     "output_type": "display_data"
    },
    {
     "name": "stdout",
     "output_type": "stream",
     "text": [
      "Корреляция цены и удалённости от центра: \n",
      "\n",
      "                     cityCenters_nearest  last_price\n",
      "cityCenters_nearest                 1.00        0.71\n",
      "last_price                          0.71        1.00 \n",
      "\n"
     ]
    }
   ],
   "source": [
    "# Зависимость цены от удалённости от центра:\n",
    "(\n",
    "    df.pivot_table(index='cityCenters_nearest', values='last_price')\n",
    "    .plot(grid=True, style='o', figsize=(5, 5))\n",
    ")\n",
    "plt.show()\n",
    "print('Корреляция цены и удалённости от центра:','\\n')\n",
    "print(df.pivot_table(index='floor', values=['cityCenters_nearest', 'last_price']).corr(),'\\n')"
   ]
  },
  {
   "cell_type": "markdown",
   "id": "5e6f40c0",
   "metadata": {},
   "source": [
    " Самые дорогие квартиры находятся в центре города. Однако и достаточно недалеко от центра, есть вполне буджетные варианты."
   ]
  },
  {
   "cell_type": "code",
   "execution_count": 40,
   "id": "c4defd48",
   "metadata": {},
   "outputs": [
    {
     "data": {
      "image/png": "[encoded data removed]",
      "text/plain": [
       "<Figure size 360x360 with 1 Axes>"
      ]
     },
     "metadata": {},
     "output_type": "display_data"
    }
   ],
   "source": [
    "# Зависимость цены от этажа:\n",
    "(\n",
    "    df.pivot_table(index='floor_type', values='last_price', aggfunc='median')\n",
    "    .plot(grid=True, style='o-', figsize=(5, 5))\n",
    ")\n",
    "plt.show()"
   ]
  },
  {
   "cell_type": "markdown",
   "id": "83eec9ea",
   "metadata": {},
   "source": [
    "Квартиры на первом этаже самые дешёвые. \n",
    "\n",
    "Последний этаж также не является популярным. \n",
    "\n",
    "Самые дорогие квартиры находятся между первым и последним."
   ]
  },
  {
   "cell_type": "code",
   "execution_count": 41,
   "id": "e2c774f4",
   "metadata": {},
   "outputs": [
    {
     "data": {
      "image/png": "[encoded data removed]",
      "text/plain": [
       "<Figure size 360x360 with 1 Axes>"
      ]
     },
     "metadata": {},
     "output_type": "display_data"
    }
   ],
   "source": [
    "# Зависимость от дня размещения:\n",
    "(\n",
    "    df.pivot_table(index='weekday_exposition', values='last_price')\n",
    "    .plot(grid=True, style='o-', figsize=(5, 5))\n",
    ")\n",
    "plt.show()"
   ]
  },
  {
   "cell_type": "markdown",
   "id": "a023c3e9",
   "metadata": {},
   "source": [
    "Квартиры с высокой ценой выставляются в начале недели. С низкой ценой в выходной. Предполагаю, что это связано с желанием побыстрее продать, всё таки в выходные у людей больше времени смотреть объявления. А дорогие квартиры продаются небыстро, и чтобы не платить за продвижение, эти объявления снимаются и выставляются заново в начале рабочей недели."
   ]
  },
  {
   "cell_type": "code",
   "execution_count": 42,
   "id": "81880d90",
   "metadata": {},
   "outputs": [
    {
     "data": {
      "image/png": "[encoded data removed]",
      "text/plain": [
       "<Figure size 720x360 with 1 Axes>"
      ]
     },
     "metadata": {},
     "output_type": "display_data"
    }
   ],
   "source": [
    "# Зависимость от месяца размещения:\n",
    "(\n",
    "    df.pivot_table(index='month_exposition', values='last_price')\n",
    "    .plot(grid=True, style='o-', xlim=(1,12), figsize=(10, 5))\n",
    ")\n",
    "plt.show()"
   ]
  },
  {
   "cell_type": "markdown",
   "id": "70e1f9bb",
   "metadata": {},
   "source": [
    "Есть сезонная активность рынка весной и осенью, летом же осуществляются срочные незапланированные сделки, \n",
    "соответсвенно они и самые дешёвые."
   ]
  },
  {
   "cell_type": "code",
   "execution_count": 44,
   "id": "5d891841",
   "metadata": {},
   "outputs": [
    {
     "data": {
      "image/png": "[encoded data removed]",
      "text/plain": [
       "<Figure size 360x360 with 1 Axes>"
      ]
     },
     "metadata": {},
     "output_type": "display_data"
    }
   ],
   "source": [
    "# Зависимость от года размещения:\n",
    "(\n",
    "    df.pivot_table(index='year_exposition', values='last_price')\n",
    "    .plot(grid=True, style='o-', figsize=(5, 5))\n",
    ")\n",
    "plt.show()"
   ]
  },
  {
   "cell_type": "markdown",
   "id": "c6fbba7e",
   "metadata": {},
   "source": [
    "Видно существенное падение цен с 2014 по 2017 год, затем некоторая стабильность до 2018 и резкий рост цен в 2019 году."
   ]
  },
  {
   "cell_type": "markdown",
   "id": "a3353eec",
   "metadata": {},
   "source": [
    "## 4.5 Выберим 10 населённых пунктов с наибольшим числом объявлений. Посчитаем среднюю цену квадратного метра в этих населённых пунктах. Выделим среди них населённые пункты с самой высокой и низкой стоимостью жилья. Эти данные можно найти по имени в столбце 'locality_name'."
   ]
  },
  {
   "cell_type": "code",
   "execution_count": 45,
   "id": "103f0221",
   "metadata": {},
   "outputs": [
    {
     "data": {
      "text/html": [
       "<div>\n",
       "<style scoped>\n",
       "    .dataframe tbody tr th:only-of-type {\n",
       "        vertical-align: middle;\n",
       "    }\n",
       "\n",
       "    .dataframe tbody tr th {\n",
       "        vertical-align: top;\n",
       "    }\n",
       "\n",
       "    .dataframe thead th {\n",
       "        text-align: right;\n",
       "    }\n",
       "</style>\n",
       "<table border=\"1\" class=\"dataframe\">\n",
       "  <thead>\n",
       "    <tr style=\"text-align: right;\">\n",
       "      <th></th>\n",
       "      <th>sm_price</th>\n",
       "    </tr>\n",
       "    <tr>\n",
       "      <th>locality_name</th>\n",
       "      <th></th>\n",
       "    </tr>\n",
       "  </thead>\n",
       "  <tbody>\n",
       "    <tr>\n",
       "      <th>Санкт-Петербург</th>\n",
       "      <td>114848</td>\n",
       "    </tr>\n",
       "    <tr>\n",
       "      <th>Пушкин</th>\n",
       "      <td>103125</td>\n",
       "    </tr>\n",
       "    <tr>\n",
       "      <th>деревня Кудрово</th>\n",
       "      <td>92473</td>\n",
       "    </tr>\n",
       "    <tr>\n",
       "      <th>посёлок Парголово</th>\n",
       "      <td>90175</td>\n",
       "    </tr>\n",
       "    <tr>\n",
       "      <th>посёлок Мурино</th>\n",
       "      <td>85751</td>\n",
       "    </tr>\n",
       "    <tr>\n",
       "      <th>посёлок Шушары</th>\n",
       "      <td>78676</td>\n",
       "    </tr>\n",
       "    <tr>\n",
       "      <th>Колпино</th>\n",
       "      <td>75424</td>\n",
       "    </tr>\n",
       "    <tr>\n",
       "      <th>Гатчина</th>\n",
       "      <td>68745</td>\n",
       "    </tr>\n",
       "    <tr>\n",
       "      <th>Всеволожск</th>\n",
       "      <td>68654</td>\n",
       "    </tr>\n",
       "    <tr>\n",
       "      <th>Выборг</th>\n",
       "      <td>58141</td>\n",
       "    </tr>\n",
       "  </tbody>\n",
       "</table>\n",
       "</div>"
      ],
      "text/plain": [
       "                   sm_price\n",
       "locality_name              \n",
       "Санкт-Петербург      114848\n",
       "Пушкин               103125\n",
       "деревня Кудрово       92473\n",
       "посёлок Парголово     90175\n",
       "посёлок Мурино        85751\n",
       "посёлок Шушары        78676\n",
       "Колпино               75424\n",
       "Гатчина               68745\n",
       "Всеволожск            68654\n",
       "Выборг                58141"
      ]
     },
     "execution_count": 45,
     "metadata": {},
     "output_type": "execute_result"
    }
   ],
   "source": [
    "# Сравниваю среднюю стоимость квадратного метра в топ-10 городов по числу объявлений:\n",
    "city_ten = df['locality_name'].value_counts().head(10)\n",
    "city_sm_price = df.query('locality_name in (@city_ten.index)').pivot_table(values='sm_price', index='locality_name')\n",
    "city_sm_price = city_sm_price.astype(int)\n",
    "city_sm_price.sort_values('sm_price', ascending=False)"
   ]
  },
  {
   "cell_type": "markdown",
   "id": "9c8ecbe7",
   "metadata": {},
   "source": [
    "Ожидаемо лидерует Питер и исторический Пушкин, а отстают отдалённые от Питера города: Выборг и Всеволжск."
   ]
  },
  {
   "cell_type": "markdown",
   "id": "dc05b626",
   "metadata": {},
   "source": [
    "## 4.6 Изучим предложения квартир: для каждой квартиры есть информация о расстоянии до центра. Выделим квартиры в Санкт-Петербурге ('locality_name'). Наша задача — выяснить, какая область входит в центр. Создадим столбец с расстоянием до центра в километрах: округлим до целых значений. После этого посчитаем среднюю цену для каждого километра. Построим график: он должен показывать, как цена зависит от удалённости от центра. Определим границу, где график сильно меняется — это и будет центральная зона."
   ]
  },
  {
   "cell_type": "code",
   "execution_count": 46,
   "id": "1814c4b4",
   "metadata": {},
   "outputs": [
    {
     "data": {
      "image/png": "[encoded data removed]",
      "text/plain": [
       "<Figure size 720x360 with 1 Axes>"
      ]
     },
     "metadata": {},
     "output_type": "display_data"
    }
   ],
   "source": [
    "# Добавляю столбец с расстоянием до центра в км, округляем до целого:\n",
    "\n",
    "df['center_km'] = df['cityCenters_nearest'] / 1000\n",
    "df['center_km'] = df['center_km'].fillna(value=0).astype(int)\n",
    "\n",
    "# Выбираю Санкт-Петербург, смотрю на график, где указана средняя стоимость для каждого км:\n",
    "(\n",
    "    df.query('locality_name == \"Санкт-Петербург\"')\n",
    "    .pivot_table(index='center_km', values='last_price')\n",
    "    .plot(grid=True, style='o-', xlim=(0,15), figsize=(10, 5))\n",
    ")\n",
    "plt.show()"
   ]
  },
  {
   "cell_type": "markdown",
   "id": "3fa3f75d",
   "metadata": {},
   "source": [
    "Определим центральную зону - 4 км."
   ]
  },
  {
   "cell_type": "markdown",
   "id": "93839de2",
   "metadata": {},
   "source": [
    "## 4.7 Выделим сегмент квартир в центре. Проанализируем эту территорию и изучим следующие параметры: площадь, цена, число комнат, высота потолков. Также выделим факторы, которые влияют на стоимость квартиры (число комнат, этаж, удалённость от центра, дата размещения объявления). Сделаем выводы. Отличаются ли они от общих выводов по всему городу?"
   ]
  },
  {
   "cell_type": "code",
   "execution_count": 47,
   "id": "3e9e80c6",
   "metadata": {},
   "outputs": [
    {
     "name": "stdout",
     "output_type": "stream",
     "text": [
      "Площадь (медиана): 52 \n",
      "\n",
      "Площадь в центре (медиана): 71 \n",
      "\n",
      "Площадь (среднее): 56 \n",
      "\n",
      "Площадь в центре (среднее): 72 \n",
      "\n"
     ]
    },
    {
     "data": {
      "image/png": "[encoded data removed]",
      "text/plain": [
       "<Figure size 720x720 with 1 Axes>"
      ]
     },
     "metadata": {},
     "output_type": "display_data"
    }
   ],
   "source": [
    "spb_center = df.query('(locality_name == \"Санкт-Петербург\") & (center_km <= 4)')\n",
    "\n",
    "# Изучаю площадь:\n",
    "print('Площадь (медиана):', round(df.query('locality_name == \"Санкт-Петербург\"')['total_area'].median()),'\\n')\n",
    "print('Площадь в центре (медиана):', round(spb_center['total_area'].median()),'\\n')\n",
    "print('Площадь (среднее):', round(df.query('locality_name == \"Санкт-Петербург\"')['total_area'].mean()),'\\n')\n",
    "print('Площадь в центре (среднее):', round(spb_center['total_area'].mean()),'\\n')\n",
    "spb_center['total_area'].hist(bins=30, range=(25,300), figsize=(10,10))\n",
    "plt.show()"
   ]
  },
  {
   "cell_type": "code",
   "execution_count": 48,
   "id": "5555079c",
   "metadata": {},
   "outputs": [
    {
     "name": "stdout",
     "output_type": "stream",
     "text": [
      "Число вариантов с ценой больше 10 млн: 1347\n",
      "Цена квартиры (медиана): 5150000.0 \n",
      "\n",
      "Цена квартиры в центре (медиана): 7600000.0 \n",
      "\n"
     ]
    },
    {
     "data": {
      "image/png": "[encoded data removed]",
      "text/plain": [
       "<Figure size 432x288 with 1 Axes>"
      ]
     },
     "metadata": {},
     "output_type": "display_data"
    }
   ],
   "source": [
    "# Анализирую  стоимость:\n",
    "spb_center['last_price'].hist(bins=100)\n",
    "print('Число вариантов с ценой больше 10 млн:', spb_center.query('last_price > 1000000')['last_price'].count())\n",
    "print('Цена квартиры (медиана):', df.query('locality_name == \"Санкт-Петербург\"')['last_price'].median(),'\\n')\n",
    "print('Цена квартиры в центре (медиана):', spb_center['last_price'].median(),'\\n')\n",
    "plt.show()"
   ]
  },
  {
   "cell_type": "code",
   "execution_count": 49,
   "id": "a094967f",
   "metadata": {},
   "outputs": [
    {
     "name": "stdout",
     "output_type": "stream",
     "text": [
      "Количество комнат (медиана): 2.0 \n",
      "\n",
      "Количество комнат в центре (медиана): 3.0 \n",
      "\n"
     ]
    },
    {
     "data": {
      "text/html": [
       "<div>\n",
       "<style scoped>\n",
       "    .dataframe tbody tr th:only-of-type {\n",
       "        vertical-align: middle;\n",
       "    }\n",
       "\n",
       "    .dataframe tbody tr th {\n",
       "        vertical-align: top;\n",
       "    }\n",
       "\n",
       "    .dataframe thead th {\n",
       "        text-align: right;\n",
       "    }\n",
       "</style>\n",
       "<table border=\"1\" class=\"dataframe\">\n",
       "  <thead>\n",
       "    <tr style=\"text-align: right;\">\n",
       "      <th></th>\n",
       "      <th>count</th>\n",
       "      <th>rooms_ratio</th>\n",
       "      <th>center_count</th>\n",
       "      <th>center_rooms_ratio</th>\n",
       "      <th>center_cap</th>\n",
       "    </tr>\n",
       "    <tr>\n",
       "      <th>rooms</th>\n",
       "      <th></th>\n",
       "      <th></th>\n",
       "      <th></th>\n",
       "      <th></th>\n",
       "      <th></th>\n",
       "    </tr>\n",
       "  </thead>\n",
       "  <tbody>\n",
       "    <tr>\n",
       "      <th>1</th>\n",
       "      <td>4937</td>\n",
       "      <td>32.01</td>\n",
       "      <td>581</td>\n",
       "      <td>16.18</td>\n",
       "      <td>12.00</td>\n",
       "    </tr>\n",
       "    <tr>\n",
       "      <th>2</th>\n",
       "      <td>5106</td>\n",
       "      <td>33.10</td>\n",
       "      <td>1119</td>\n",
       "      <td>31.17</td>\n",
       "      <td>22.00</td>\n",
       "    </tr>\n",
       "    <tr>\n",
       "      <th>3</th>\n",
       "      <td>4123</td>\n",
       "      <td>26.73</td>\n",
       "      <td>1165</td>\n",
       "      <td>32.45</td>\n",
       "      <td>28.00</td>\n",
       "    </tr>\n",
       "    <tr>\n",
       "      <th>4</th>\n",
       "      <td>968</td>\n",
       "      <td>6.28</td>\n",
       "      <td>504</td>\n",
       "      <td>14.04</td>\n",
       "      <td>52.00</td>\n",
       "    </tr>\n",
       "    <tr>\n",
       "      <th>5</th>\n",
       "      <td>291</td>\n",
       "      <td>1.89</td>\n",
       "      <td>221</td>\n",
       "      <td>6.16</td>\n",
       "      <td>76.00</td>\n",
       "    </tr>\n",
       "  </tbody>\n",
       "</table>\n",
       "</div>"
      ],
      "text/plain": [
       "       count  rooms_ratio  center_count  center_rooms_ratio  center_cap\n",
       "rooms                                                                  \n",
       "1       4937        32.01           581               16.18       12.00\n",
       "2       5106        33.10          1119               31.17       22.00\n",
       "3       4123        26.73          1165               32.45       28.00\n",
       "4        968         6.28           504               14.04       52.00\n",
       "5        291         1.89           221                6.16       76.00"
      ]
     },
     "metadata": {},
     "output_type": "display_data"
    }
   ],
   "source": [
    "# Изучаю число комнат:\n",
    "spb_rooms = df.query('(locality_name == \"Санкт-Петербург\") & (rooms > 0)').pivot_table(index='rooms', values='floor', aggfunc='count')\n",
    "spb_rooms.columns = ['count']\n",
    "spb_rooms['rooms_ratio'] = spb_rooms['count'] / spb_rooms['count'].sum() * 100\n",
    "spb_rooms_center = df.query('(locality_name == \"Санкт-Петербург\") & (center_km <= 7)  & (rooms > 0)').pivot_table(index='rooms', values='floor', aggfunc='count')\n",
    "spb_rooms_center.columns = ['center_count']\n",
    "spb_rooms_center['center_rooms_ratio'] = spb_rooms_center['center_count'] / spb_rooms_center['center_count'].sum() * 100\n",
    "rooms_alldata = pd.merge(spb_rooms, spb_rooms_center, 'left', on = 'rooms')\n",
    "rooms_alldata['center_cap'] = round(rooms_alldata['center_count'] / rooms_alldata['count'] * 100)\n",
    "print('Количество комнат (медиана):', df.query('locality_name == \"Санкт-Петербург\"')['rooms'].median(),'\\n')\n",
    "print('Количество комнат в центре (медиана):', spb_center['rooms'].median(),'\\n')\n",
    "display(rooms_alldata)"
   ]
  },
  {
   "cell_type": "code",
   "execution_count": 50,
   "id": "bd5a2cbf",
   "metadata": {},
   "outputs": [
    {
     "name": "stdout",
     "output_type": "stream",
     "text": [
      "Высота потолков (медиана): 2.65 \n",
      "\n",
      "Высота потолков в центре (медиана): 3.0 \n",
      "\n",
      "Высота потолков (среднее): 2.703441343171831 \n",
      "\n",
      "Высота потолков в центре (среднее): 2.9544047619047595 \n",
      "\n"
     ]
    }
   ],
   "source": [
    "# Изучаю высоту потолков:\n",
    "print('Высота потолков (медиана):', df.query('locality_name == \"Санкт-Петербург\"')['ceiling_height'].median(),'\\n')\n",
    "print('Высота потолков в центре (медиана):', spb_center['ceiling_height'].median(),'\\n')\n",
    "print('Высота потолков (среднее):', df.query('locality_name == \"Санкт-Петербург\"')['ceiling_height'].mean(),'\\n')\n",
    "print('Высота потолков в центре (среднее):', spb_center['ceiling_height'].mean(),'\\n')"
   ]
  },
  {
   "cell_type": "markdown",
   "id": "813e6a42",
   "metadata": {},
   "source": [
    "                                                    Выводы:\n",
    "    Площадь квартир в центре в среднем на 16м2 больше.\n",
    "    В центре в 2 раза меньше однокомнатных квартир.Более половины 4-х комнатных и 3/4 5- комнатных находится в центре.\n",
    "    Высота потолков в центре выше почти на 5 см."
   ]
  },
  {
   "cell_type": "code",
   "execution_count": 51,
   "id": "4ba3d3ce",
   "metadata": {},
   "outputs": [
    {
     "data": {
      "image/png": "[encoded data removed]",
      "text/plain": [
       "<Figure size 360x360 with 1 Axes>"
      ]
     },
     "metadata": {},
     "output_type": "display_data"
    },
    {
     "name": "stdout",
     "output_type": "stream",
     "text": [
      "Корреляция цены и числа комнат: \n",
      "\n",
      "            last_price  rooms\n",
      "last_price        1.00   0.39\n",
      "rooms             0.39   1.00 \n",
      "\n"
     ]
    }
   ],
   "source": [
    "# Зависимость цены от числа комнат:\n",
    "(\n",
    "    spb_center.query('(rooms > 0) & (rooms < 7)').pivot_table(index='rooms', values='last_price')\n",
    "    .plot(grid=True, style='o-', figsize=(5, 5))\n",
    ")\n",
    "plt.show()\n",
    "print('Корреляция цены и числа комнат:','\\n')\n",
    "print(spb_center.query('(rooms > 0) & (rooms < 7)').pivot_table(index='floor', values=['rooms', 'last_price']).corr(),'\\n')"
   ]
  },
  {
   "cell_type": "code",
   "execution_count": 52,
   "id": "5de49062",
   "metadata": {},
   "outputs": [
    {
     "data": {
      "image/png": "[encoded data removed]",
      "text/plain": [
       "<Figure size 360x360 with 1 Axes>"
      ]
     },
     "metadata": {},
     "output_type": "display_data"
    }
   ],
   "source": [
    "# Зависимость цены от этажа:\n",
    "(\n",
    "    spb_center.pivot_table(index='floor_type', values='last_price', aggfunc='median')\n",
    "    .plot(grid=True, style='o-', figsize=(5, 5))\n",
    ")\n",
    "plt.show()"
   ]
  },
  {
   "cell_type": "code",
   "execution_count": 53,
   "id": "d8f454bb",
   "metadata": {},
   "outputs": [
    {
     "data": {
      "image/png": "[encoded data removed]",
      "text/plain": [
       "<Figure size 360x360 with 1 Axes>"
      ]
     },
     "metadata": {},
     "output_type": "display_data"
    },
    {
     "name": "stdout",
     "output_type": "stream",
     "text": [
      "Корреляция цены и удалённости от центра: \n",
      "\n",
      "                     cityCenters_nearest  last_price\n",
      "cityCenters_nearest                 1.00        0.08\n",
      "last_price                          0.08        1.00 \n",
      "\n"
     ]
    }
   ],
   "source": [
    "# Зависимость цены от удалённости от центра:\n",
    "(\n",
    "    spb_center.pivot_table(index='cityCenters_nearest', values='last_price', aggfunc='median')\n",
    "    .plot(grid=True, style='o', figsize=(5, 5))\n",
    ")\n",
    "plt.show()\n",
    "print('Корреляция цены и удалённости от центра:','\\n')\n",
    "print(spb_center.pivot_table(index='floor', values=['cityCenters_nearest', 'last_price']).corr(),'\\n')"
   ]
  },
  {
   "cell_type": "code",
   "execution_count": 54,
   "id": "5c71cc24",
   "metadata": {},
   "outputs": [
    {
     "data": {
      "image/png": "[encoded data removed]",
      "text/plain": [
       "<Figure size 360x360 with 1 Axes>"
      ]
     },
     "metadata": {},
     "output_type": "display_data"
    }
   ],
   "source": [
    "# Зависимость от дня размещения:\n",
    "(\n",
    "    spb_center.pivot_table(index='weekday_exposition', values='last_price')\n",
    "    .plot(grid=True, style='o-', figsize=(5, 5))\n",
    ")\n",
    "plt.show()"
   ]
  },
  {
   "cell_type": "code",
   "execution_count": 55,
   "id": "2caed7ff",
   "metadata": {},
   "outputs": [
    {
     "data": {
      "image/png": "[encoded data removed]",
      "text/plain": [
       "<Figure size 720x360 with 1 Axes>"
      ]
     },
     "metadata": {},
     "output_type": "display_data"
    }
   ],
   "source": [
    "# Зависимость от месяца размещения:\n",
    "(\n",
    "    spb_center.pivot_table(index='month_exposition', values='last_price')\n",
    "    .plot(grid=True, style='o-', xlim=(1,12), figsize=(10, 5))\n",
    ")\n",
    "plt.show()"
   ]
  },
  {
   "cell_type": "code",
   "execution_count": 56,
   "id": "3bf06a5e",
   "metadata": {},
   "outputs": [
    {
     "data": {
      "image/png": "[encoded data removed]",
      "text/plain": [
       "<Figure size 360x360 with 1 Axes>"
      ]
     },
     "metadata": {},
     "output_type": "display_data"
    }
   ],
   "source": [
    "# Зависимость от года размещения:\n",
    "(\n",
    "    spb_center.pivot_table(index='year_exposition', values='last_price')\n",
    "    .plot(grid=True, style='o-', figsize=(5, 5))\n",
    ")\n",
    "plt.show()"
   ]
  },
  {
   "cell_type": "markdown",
   "id": "63d7b0a2",
   "metadata": {},
   "source": [
    "                                     Выводы:\n",
    "                                     \n",
    "                                     \n",
    "Корреляция цены в центре от числа комнат ниже, чем в  среднем по городу. В центре большое количество однокомнатных \n",
    "квартир большой площади.\n",
    "\n",
    "\n",
    "В центре так же, как и по городу самый дешёвый этаж первый. При этом последний этаж гораздо дороже, чем в среднем по городу. Это обусловлено низкой исторической застройкой и последний, обычно третий этаж очень ценится за вид.\n",
    "\n",
    "\n",
    "В центральной части города почти нет зависимости от удалённости от центра. Это связано с достаточно большой площадью исторического центра города. Точка центра достаточна условна, большое количество достопримечательностей делает достаточно много домов дорогой недвижимостью.\n",
    "\n",
    "\n",
    "Продажи по дням в центре в отличие от всего города достаточно ровные по рабочей недели и с пиков в воскресенье.\n",
    "\n",
    "\n",
    "Продажи по месяцам в целом соответствует тенденции по городу, отличие смещение начала сезона к февралю и осеннего начала сезона к сентябрю.\n",
    "\n",
    "\n",
    "Продажи по годам в центре, в целом отражают картину по всему городу. Но с более плавным падением спроса в 2015,2016 годах. Думаю люди, вложившиеся в валюту, после падения рубля в 2014, ещё какое-то время поддерживали спрос на дорогую недвижимость."
   ]
  },
  {
   "cell_type": "markdown",
   "id": "86a519b3",
   "metadata": {},
   "source": [
    "# Шаг 5. Общий вывод"
   ]
  },
  {
   "cell_type": "markdown",
   "id": "d919f933",
   "metadata": {},
   "source": [
    "Я обработал полученный архив данных - обработал пропущенные значения там, где это необходимо, заменил типы данных на необходимые для удобной работы. Посчитал и добавил в таблицу цену квадратного метра жилья, вывел из даты дни недели, месяцы и года размещения объявлений, добавил категории по этажам квартир. Изучил следующие параметры на наличие выбивающихся значений - площадь, цена, число комнат, высота потолков. Были определены аномалии в данных параметрах. \n",
    "На стоимость больше влияет площадь квартиры, нежели число комнат. Т.е. могут быть дорогие квартиры с малым числом комнат, но где комнаты просторные. Удалённость от центра, тоже важный параметр. Но в Санкт-Петербурге исторический центр достаточно большой и сильное падение цен начинается примерно от радиуса в 4 км от центра.\n",
    "В центре города, в силу малоэтажности исторического центра, пользуется спросом последний этаж ( в отличие от общей статистики по городу).\n",
    "\n",
    "Медиальное значение площади квартир в центре ( в радиусе 4 км от центра) - 71м2, что больше чем в по городу на 19м2.\n",
    "Медиальное значение цена за квартиру в центре 7,1 млн. рублей, т.к по городу - 5,15 млн. рублей.\n",
    "Медиальное значение количества комнат в центре 3, а в целом по городу- 2 комнаты.\n",
    "Медиальное значение высоты потолков - 3м, по городу же 2,65м."
   ]
  }
 ],
 "metadata": {
  "kernelspec": {
   "display_name": "Python 3 (ipykernel)",
   "language": "python",
   "name": "python3"
  },
  "language_info": {
   "codemirror_mode": {
    "name": "ipython",
    "version": 3
   },
   "file_extension": ".py",
   "mimetype": "text/x-python",
   "name": "python",
   "nbconvert_exporter": "python",
   "pygments_lexer": "ipython3",
   "version": "3.9.7"
  }
 },
 "nbformat": 4,
 "nbformat_minor": 5
}
